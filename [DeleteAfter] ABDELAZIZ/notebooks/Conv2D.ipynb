{
 "cells": [
  {
   "cell_type": "code",
   "execution_count": 1,
   "metadata": {},
   "outputs": [
    {
     "data": {
      "text/plain": [
       "0"
      ]
     },
     "execution_count": 1,
     "metadata": {},
     "output_type": "execute_result"
    }
   ],
   "source": [
    "import gc\n",
    "gc.collect()"
   ]
  },
  {
   "cell_type": "code",
   "execution_count": 2,
   "metadata": {},
   "outputs": [],
   "source": [
    "from __future__ import print_function\n",
    "from sklearn import datasets\n",
    "import matplotlib.pyplot as plt\n",
    "import numpy as np\n",
    "import sys\n",
    "\n",
    "sys.path.append(\"C:/Users/admin/Desktop/IP Paris/MICAS/Cours/910/913 - Deep Learning/Project/\")\n",
    "\n",
    "# Import helper functions\n",
    "from networks import NeuralNetwork\n",
    "from optimization.optimizers import StochasticGradientDescent, Adam, RMSprop, Adagrad, Adadelta\n",
    "from networks.loss_functions import CrossEntropy, SquareLoss, MSE\n",
    "from utils.misc import bar_widgets\n",
    "from networks.layers import Dense, Dropout, Activation, BatchNormalization, Conv2D, Flatten\n",
    "from helpers.helper import *\n",
    "from helpers.processing import *\n",
    "\n",
    "import pandas as pd\n",
    "from numpy import save\n",
    "import matplotlib.pyplot as plt\n",
    "from tqdm import tqdm\n",
    "\n",
    "from sklearn.model_selection import train_test_split\n",
    "from sklearn import preprocessing\n",
    "from sklearn.utils import shuffle\n",
    "from sklearn.preprocessing import MinMaxScaler\n",
    "\n",
    "import time"
   ]
  },
  {
   "cell_type": "code",
   "execution_count": 3,
   "metadata": {},
   "outputs": [],
   "source": [
    "#-------------------------------------------------------------------------------------------------#\n",
    "\n",
    "def plot_transformed_to_img(X, index_plot):\n",
    "\n",
    "    plt.imshow(X[index_plot][0])\n",
    "    plt.title(\"Image on channel 1\")\n",
    "    plt.show()\n",
    "\n",
    "    plt.imshow(X[index_plot][1])\n",
    "    plt.title(\"Image on channel 2\")\n",
    "    plt.show()\n",
    "    \n",
    "#-------------------------------------------------------------------------------------------------#\n",
    "\n",
    "def evaluate_ber(y_pred, y_test, index_pred, nsymbols):\n",
    "    \n",
    "    nLayers = 500                         # Number of Layers of the Generative network\n",
    "    y_ori = y_test[index_pred]\n",
    "    # Initialize parameters\n",
    "    parameters = Parameters(nsymbols=nsymbols, nLayers=nLayers)\n",
    "    # Initialize the Equalizer\n",
    "    equalizer = Equalizer()\n",
    "    # Initialize the Demodulator\n",
    "    demodulator = Demodulator()\n",
    "    # Initialize the Transmitor\n",
    "    transmitor = Transmitor()\n",
    "    # Initialize the Detector\n",
    "    detector = Detector(transmitor)\n",
    "    \n",
    "    # propagation & equalization.\n",
    "    q0t = fromRealToComplex(y_pred)    \n",
    "    #qzt, qzf = channel.channel(parameters.t, q0t, parameters.z, parameters.sigma2, parameters.B) \n",
    "    qzt = q0t\n",
    "    qzte, qzfe = equalizer.equalize(parameters.t, qzt, parameters.z) # equalized output\n",
    "    # demodulation\n",
    "    #shat = demodulator.demod(parameters.t, parameters.dt, qzte, parameters.B, parameters.n)\n",
    "    shat = demod(parameters.t, parameters.dt, qzte, parameters.B, parameters.n)\n",
    "\n",
    "    # detection\n",
    "    stilde, indexes = detector.detector(shat, parameters.M)\n",
    "    bhat = detector.symbols_to_bit(indexes, parameters.M)\n",
    "    y_ori = y_ori.reshape(1,-1)\n",
    "    # propagation & equalization.\n",
    "    q0t = fromRealToComplex(y_ori)\n",
    "    print(q0t.shape)\n",
    "    qzt = q0t\n",
    "    qzte, qzfe = equalizer.equalize(parameters.t, qzt, parameters.z) # equalized output\n",
    "    # demodulation\n",
    "    shat = demodulator.demod(parameters.t, parameters.dt, qzte, parameters.B, parameters.n)\n",
    "\n",
    "    # detection\n",
    "    stilde, indexes = detector.detector(shat, parameters.M)\n",
    "    b = detector.symbols_to_bit(indexes, parameters.M)\n",
    "    \n",
    "    ser = detector.ser(s, stilde)  # symbol error rate\n",
    "    ber = detector.ber(b, bhat)  # bit error rate\n",
    "    \n",
    "    print(\"b : \", b)\n",
    "    print(\"bhat : \", bhat)\n",
    "    print(\"ber : \", ber)\n",
    "    print(\"ser : \", ser)    \n",
    "    \n",
    "#-------------------------------------------------------------------------------------------------#\n",
    "    \n",
    "def evals(model, X_test, y_test, index_pred, opti, train_err, val_err, nsymbols=16):\n",
    "    \n",
    "    # Reshape images to go back to Signal\n",
    "    x_tester = X_test.reshape(X_test.shape[0], -1, 2,32,32)\n",
    "    #x_test_original = X_test.reshape(X_test.shape[0], 2048,1)\n",
    "    \n",
    "    # Training and validation error plot\n",
    "    n = len(train_err)\n",
    "    training, = plt.plot(range(n), train_err, label=\"Training Error\")\n",
    "    validation, = plt.plot(range(n), val_err, label=\"Validation Error\")\n",
    "    plt.legend(handles=[training, validation])\n",
    "    plt.title(\"Error Plot using \"+str(opti))\n",
    "    plt.ylabel('Error')\n",
    "    plt.xlabel('Iterations')\n",
    "    plt.show()\n",
    "    \n",
    "    y_pred = model.predict(x_tester[index_pred])\n",
    "    \n",
    "    plt.title(\"Predicted Signal\")\n",
    "    plt.plot(np.squeeze(np.abs(y_pred)))\n",
    "    plt.show()\n",
    "    \n",
    "    plt.title(\"Predicted Signal vs Original\")\n",
    "    plt.plot(np.squeeze(np.abs(y_pred)), label=\"prediction\")\n",
    "    plt.plot(np.squeeze(np.abs(y_test[index_pred])), label=\"original\")\n",
    "    plt.legend()\n",
    "    plt.show()\n",
    "    \n",
    "    plt.title(\"Predicted Signal vs Original\")\n",
    "    plt.plot(np.squeeze(np.abs(y_pred)), label=\"prediction\")\n",
    "    plt.plot(np.squeeze(np.abs(y_test[index_pred])), label=\"original\")\n",
    "    plt.legend()\n",
    "    plt.show()\n",
    "    \n",
    "    evaluate_ber(y_pred, y_test, index_pred, nsymbols)\n",
    "    \n",
    "    return y_pred\n",
    "\n",
    "#-------------------------------------------------------------------------------------------------#\n",
    "\n",
    "def get_prepared_mod_data(ts= 0.25, withReshape = True):\n",
    "    \n",
    "    d80K = np.load('../data/modulation/80K_XY_16_symb.npz')\n",
    "    \n",
    "    X = d80K['X'] # distorted source\n",
    "    y = d80K['y'] # original source\n",
    "    \n",
    "    t1 = time.time()\n",
    "    df = prepareDataFrame(X, y)\n",
    "    t2 = time.time()\n",
    "    \n",
    "    print(\"[INFO] Total time to prepare the dataframe is : \", t2-t1, \" seconds.\")\n",
    "\n",
    "    X_train, X_test, y_train, y_test = prepareTrainAndTestData(df, withReshape, ts)\n",
    "    \n",
    "    print(\"[INFO] Reshaping datas...\")\n",
    "    \n",
    "    # Reshape X to (n_samples, channels, height, width) (2*32*32 = 2048)\n",
    "    X_train = X_train.reshape((X_train.shape[0],2,32,32))\n",
    "    X_test = X_test.reshape((X_test.shape[0],2,32,32))\n",
    "    y_train = np.squeeze(y_train)\n",
    "    y_test = np.squeeze(y_test)\n",
    "    \n",
    "    print(\"X_train.shape : \",X_train.shape)\n",
    "    print(\"y_train.shape : \",y_train.shape)\n",
    "    print(\"X_test.shape : \",X_test.shape)\n",
    "    print(\"y_test.shape : \",y_test.shape)\n",
    "    \n",
    "    return X_train, X_test, y_train, y_test\n",
    "\n",
    "#-------------------------------------------------------------------------------------------------#"
   ]
  },
  {
   "cell_type": "code",
   "execution_count": 4,
   "metadata": {},
   "outputs": [
    {
     "name": "stderr",
     "output_type": "stream",
     "text": [
      "  0%|                                                                              | 79/80000 [00:00<01:41, 788.45it/s]"
     ]
    },
    {
     "name": "stdout",
     "output_type": "stream",
     "text": [
      "\n",
      " [INFO] {fromComplexToReal} runing...\n"
     ]
    },
    {
     "name": "stderr",
     "output_type": "stream",
     "text": [
      "100%|███████████████████████████████████████████████████████████████████████████| 80000/80000 [01:45<00:00, 760.40it/s]\n",
      "  0%|                                                                              | 98/80000 [00:00<01:22, 971.77it/s]"
     ]
    },
    {
     "name": "stdout",
     "output_type": "stream",
     "text": [
      " [INFO] {fromComplexToReal} vect_real.shape :  (80000, 2048)\n",
      "\n",
      " [INFO] {fromComplexToReal} runing...\n"
     ]
    },
    {
     "name": "stderr",
     "output_type": "stream",
     "text": [
      "100%|███████████████████████████████████████████████████████████████████████████| 80000/80000 [01:36<00:00, 833.00it/s]\n"
     ]
    },
    {
     "name": "stdout",
     "output_type": "stream",
     "text": [
      " [INFO] {fromComplexToReal} vect_real.shape :  (80000, 2048)\n",
      "{prepareDataFrame} df_.shape :  (80000, 4096)\n",
      "[INFO] Total time to prepare the dataframe is :  206.83215427398682  seconds.\n",
      "[INFO] - {prepareTrainAndTestData} converting from pandas to numpy...\n",
      "[INFO] train and test data are ready.\n",
      "X.shape :  (80000, 2048)\n",
      "y.shape :  (80000, 2048)\n",
      "X_train.shape :  (60000, 2048, 1)\n",
      "y_train.shape :  (60000, 2048, 1)\n",
      "X_test.shape :  (20000, 2048, 1)\n",
      "y_test.shape :  (20000, 2048, 1)\n",
      "[INFO] Reshaping datas...\n",
      "X_train.shape :  (60000, 2, 32, 32)\n",
      "y_train.shape :  (60000, 2048)\n",
      "X_test.shape :  (20000, 2, 32, 32)\n",
      "y_test.shape :  (20000, 2048)\n"
     ]
    }
   ],
   "source": [
    "X_train, X_test, y_train, y_test = get_prepared_mod_data()"
   ]
  },
  {
   "cell_type": "code",
   "execution_count": 5,
   "metadata": {},
   "outputs": [
    {
     "name": "stdout",
     "output_type": "stream",
     "text": [
      "X_train.shape :  (60000, 2, 32, 32)\n",
      "y_train.shape :  (60000, 2048)\n",
      "X_test.shape :  (20000, 2, 32, 32)\n",
      "y_test.shape :  (20000, 2048)\n"
     ]
    }
   ],
   "source": [
    "print(\"X_train.shape : \",X_train.shape)\n",
    "print(\"y_train.shape : \",y_train.shape)\n",
    "print(\"X_test.shape : \",X_test.shape)\n",
    "print(\"y_test.shape : \",y_test.shape)"
   ]
  },
  {
   "cell_type": "code",
   "execution_count": 8,
   "metadata": {},
   "outputs": [
    {
     "data": {
      "image/png": "[encoded data removed]",
      "text/plain": [
       "<Figure size 432x288 with 1 Axes>"
      ]
     },
     "metadata": {
      "needs_background": "light"
     },
     "output_type": "display_data"
    },
    {
     "data": {
      "image/png": "[encoded data removed]",
      "text/plain": [
       "<Figure size 432x288 with 1 Axes>"
      ]
     },
     "metadata": {
      "needs_background": "light"
     },
     "output_type": "display_data"
    }
   ],
   "source": [
    "index_plot = 689\n",
    "plot_transformed_to_img(X_train, index_plot)"
   ]
  },
  {
   "cell_type": "code",
   "execution_count": 6,
   "metadata": {},
   "outputs": [],
   "source": [
    "x_tr = X_train[0:1000,:,:]\n",
    "x_te = X_test[1100:1500,:,:]\n",
    "y_tr = y_train[0:1000,:]\n",
    "y_te = y_test[1100:1500,:]"
   ]
  },
  {
   "cell_type": "code",
   "execution_count": 7,
   "metadata": {},
   "outputs": [],
   "source": [
    "# Reshape X to (n_samples, channels, height, width) (2*32*32 = 2048)\n",
    "x_tr = x_tr.reshape((x_tr.shape[0],2,32,32))\n",
    "x_te = x_te.reshape((x_te.shape[0],2,32,32))\n",
    "y_tr = np.squeeze(y_tr)\n",
    "y_te = np.squeeze(y_te)"
   ]
  },
  {
   "cell_type": "markdown",
   "metadata": {},
   "source": [
    "## Models"
   ]
  },
  {
   "cell_type": "code",
   "execution_count": 9,
   "metadata": {},
   "outputs": [],
   "source": [
    "optimizer = Adam()\n",
    "opti = 'Adam'\n",
    "n_features = 2048\n",
    "n_output = 2048\n",
    "ccn_1 = NeuralNetwork(optimizer=optimizer,\n",
    "                        loss=SquareLoss,\n",
    "                        validation_data=(X_test, y_test))"
   ]
  },
  {
   "cell_type": "code",
   "execution_count": 10,
   "metadata": {},
   "outputs": [
    {
     "name": "stdout",
     "output_type": "stream",
     "text": [
      "\n",
      "+--------+\n",
      "| Conv2D |\n",
      "+--------+\n",
      "Input Shape: (2, 32, 32)\n",
      "+------------------+------------+--------------+\n",
      "| Layer Type       | Parameters | Output Shape |\n",
      "+------------------+------------+--------------+\n",
      "| Conv2D           | 1216       | (64, 32, 32) |\n",
      "| Activation (ELU) | 0          | (64, 32, 32) |\n",
      "| Conv2D           | 18464      | (32, 32, 32) |\n",
      "| Activation (ELU) | 0          | (32, 32, 32) |\n",
      "| Flatten          | 0          | (32768,)     |\n",
      "| Dense            | 2097216    | (64,)        |\n",
      "| Activation (ELU) | 0          | (64,)        |\n",
      "| Dense            | 1040       | (16,)        |\n",
      "| Activation (ELU) | 0          | (16,)        |\n",
      "| Dense            | 1088       | (64,)        |\n",
      "| Activation (ELU) | 0          | (64,)        |\n",
      "| Dense            | 133120     | (2048,)      |\n",
      "| Activation (ELU) | 0          | (2048,)      |\n",
      "+------------------+------------+--------------+\n",
      "Total Parameters: 2252144\n",
      "\n"
     ]
    }
   ],
   "source": [
    "ccn_1.add(Conv2D(n_filters=64, filter_shape=(3,3), stride=1, input_shape=(2,32,32), padding='same'))\n",
    "ccn_1.add(Activation('elu'))\n",
    "\n",
    "ccn_1.add(Conv2D(n_filters=32, filter_shape=(3,3), stride=1, padding='same'))\n",
    "ccn_1.add(Activation('elu'))\n",
    "\n",
    "ccn_1.add(Flatten())\n",
    "\n",
    "ccn_1.add(Dense(64))\n",
    "ccn_1.add(Activation('elu'))\n",
    "\n",
    "ccn_1.add(Dense(16))\n",
    "ccn_1.add(Activation('elu'))\n",
    "\n",
    "ccn_1.add(Dense(64))\n",
    "ccn_1.add(Activation('elu'))\n",
    "\n",
    "ccn_1.add(Dense(n_output))\n",
    "ccn_1.add(Activation('elu'))\n",
    "\n",
    "print ()\n",
    "ccn_1.summary(name=\"Conv2D\")"
   ]
  },
  {
   "cell_type": "markdown",
   "metadata": {},
   "source": [
    "### Train Conv2D simple\n",
    "\n",
    "I had some hardware limitation (Memory issues) running it on a bigger dataset, therefore, in this experience we just showcase the performance we can get with a simple convolutional network in this problem."
   ]
  },
  {
   "cell_type": "code",
   "execution_count": 15,
   "metadata": {},
   "outputs": [],
   "source": [
    "num_epochs = 40\n",
    "batch_size = 32"
   ]
  },
  {
   "cell_type": "code",
   "execution_count": 29,
   "metadata": {},
   "outputs": [
    {
     "name": "stderr",
     "output_type": "stream",
     "text": [
      "Training:   0% [                                               ] ETA:  --:--:--\r"
     ]
    },
    {
     "name": "stdout",
     "output_type": "stream",
     "text": [
      "[INFO] Batch size :  32\n",
      "[INFO] Training epochs number :  40\n"
     ]
    },
    {
     "name": "stderr",
     "output_type": "stream",
     "text": [
      "C:/Users/admin/Desktop/IP Paris/MICAS/Cours/910/913 - Deep Learning/Project\\networks\\activation_functions.py:82: RuntimeWarning: overflow encountered in exp\n",
      "  return x*np.exp(2*dz*abs2)\n",
      "C:/Users/admin/Desktop/IP Paris/MICAS/Cours/910/913 - Deep Learning/Project\\networks\\activation_functions.py:82: RuntimeWarning: overflow encountered in multiply\n",
      "  return x*np.exp(2*dz*abs2)\n",
      "C:/Users/admin/Desktop/IP Paris/MICAS/Cours/910/913 - Deep Learning/Project\\networks\\loss_functions.py:24: RuntimeWarning: overflow encountered in power\n",
      "  return 0.5 * np.power((y - y_pred), 2)\n",
      "Training:   2% [-                                               ] ETA:  0:33:32\r"
     ]
    },
    {
     "name": "stdout",
     "output_type": "stream",
     "text": [
      "[INFO] Training loss on epoch  1  :  0.44021\n",
      "[INFO] Validation loss on epoch  1  :  inf\n",
      "-------------------------------------------------------------------------------\n"
     ]
    },
    {
     "name": "stderr",
     "output_type": "stream",
     "text": [
      "Training:   5% [--                                              ] ETA:  0:31:30\r"
     ]
    },
    {
     "name": "stdout",
     "output_type": "stream",
     "text": [
      "[INFO] Training loss on epoch  2  :  0.39179\n",
      "[INFO] Validation loss on epoch  2  :  inf\n",
      "-------------------------------------------------------------------------------\n"
     ]
    },
    {
     "name": "stderr",
     "output_type": "stream",
     "text": [
      "Training:   7% [---                                             ] ETA:  0:30:23\r"
     ]
    },
    {
     "name": "stdout",
     "output_type": "stream",
     "text": [
      "[INFO] Training loss on epoch  3  :  0.37122\n",
      "[INFO] Validation loss on epoch  3  :  2981257357755.51953\n",
      "-------------------------------------------------------------------------------\n"
     ]
    },
    {
     "name": "stderr",
     "output_type": "stream",
     "text": [
      "Training:  10% [----                                            ] ETA:  0:29:00\r"
     ]
    },
    {
     "name": "stdout",
     "output_type": "stream",
     "text": [
      "[INFO] Training loss on epoch  4  :  0.35991\n",
      "[INFO] Validation loss on epoch  4  :  0.46527\n",
      "-------------------------------------------------------------------------------\n"
     ]
    },
    {
     "name": "stderr",
     "output_type": "stream",
     "text": [
      "Training:  12% [------                                          ] ETA:  0:27:39\r"
     ]
    },
    {
     "name": "stdout",
     "output_type": "stream",
     "text": [
      "[INFO] Training loss on epoch  5  :  0.35237\n",
      "[INFO] Validation loss on epoch  5  :  0.31231\n",
      "-------------------------------------------------------------------------------\n"
     ]
    },
    {
     "name": "stderr",
     "output_type": "stream",
     "text": [
      "Training:  15% [-------                                         ] ETA:  0:26:43\r"
     ]
    },
    {
     "name": "stdout",
     "output_type": "stream",
     "text": [
      "[INFO] Training loss on epoch  6  :  0.34714\n",
      "[INFO] Validation loss on epoch  6  :  0.31238\n",
      "-------------------------------------------------------------------------------\n"
     ]
    },
    {
     "name": "stderr",
     "output_type": "stream",
     "text": [
      "Training:  17% [--------                                        ] ETA:  0:25:39\r"
     ]
    },
    {
     "name": "stdout",
     "output_type": "stream",
     "text": [
      "[INFO] Training loss on epoch  7  :  0.34266\n",
      "[INFO] Validation loss on epoch  7  :  0.31257\n",
      "-------------------------------------------------------------------------------\n"
     ]
    },
    {
     "name": "stderr",
     "output_type": "stream",
     "text": [
      "Training:  20% [---------                                       ] ETA:  0:24:42\r"
     ]
    },
    {
     "name": "stdout",
     "output_type": "stream",
     "text": [
      "[INFO] Training loss on epoch  8  :  0.33925\n",
      "[INFO] Validation loss on epoch  8  :  0.31246\n",
      "-------------------------------------------------------------------------------\n"
     ]
    },
    {
     "name": "stderr",
     "output_type": "stream",
     "text": [
      "Training:  22% [----------                                      ] ETA:  0:23:47\r"
     ]
    },
    {
     "name": "stdout",
     "output_type": "stream",
     "text": [
      "[INFO] Training loss on epoch  9  :  0.33638\n",
      "[INFO] Validation loss on epoch  9  :  0.31321\n",
      "-------------------------------------------------------------------------------\n"
     ]
    },
    {
     "name": "stderr",
     "output_type": "stream",
     "text": [
      "Training:  25% [------------                                    ] ETA:  0:22:54\r"
     ]
    },
    {
     "name": "stdout",
     "output_type": "stream",
     "text": [
      "[INFO] Training loss on epoch  10  :  0.33372\n",
      "[INFO] Validation loss on epoch  10  :  0.32189\n",
      "-------------------------------------------------------------------------------\n"
     ]
    },
    {
     "name": "stderr",
     "output_type": "stream",
     "text": [
      "Training:  27% [-------------                                   ] ETA:  0:22:04\r"
     ]
    },
    {
     "name": "stdout",
     "output_type": "stream",
     "text": [
      "[INFO] Training loss on epoch  11  :  0.33187\n",
      "[INFO] Validation loss on epoch  11  :  0.35744\n",
      "-------------------------------------------------------------------------------\n"
     ]
    },
    {
     "name": "stderr",
     "output_type": "stream",
     "text": [
      "Training:  30% [--------------                                  ] ETA:  0:21:16\r"
     ]
    },
    {
     "name": "stdout",
     "output_type": "stream",
     "text": [
      "[INFO] Training loss on epoch  12  :  0.32987\n",
      "[INFO] Validation loss on epoch  12  :  5.26510\n",
      "-------------------------------------------------------------------------------\n"
     ]
    },
    {
     "name": "stderr",
     "output_type": "stream",
     "text": [
      "Training:  32% [---------------                                 ] ETA:  0:20:26\r"
     ]
    },
    {
     "name": "stdout",
     "output_type": "stream",
     "text": [
      "[INFO] Training loss on epoch  13  :  0.32838\n",
      "[INFO] Validation loss on epoch  13  :  2597670770808041.50000\n",
      "-------------------------------------------------------------------------------\n"
     ]
    },
    {
     "name": "stderr",
     "output_type": "stream",
     "text": [
      "Training:  35% [----------------                                ] ETA:  0:19:38\r"
     ]
    },
    {
     "name": "stdout",
     "output_type": "stream",
     "text": [
      "[INFO] Training loss on epoch  14  :  0.32689\n",
      "[INFO] Validation loss on epoch  14  :  174862318266368889060819836877903121415076975475985350688226335126090215294077256236347144921218547712.00000\n",
      "-------------------------------------------------------------------------------\n"
     ]
    },
    {
     "name": "stderr",
     "output_type": "stream",
     "text": [
      "Training:  37% [------------------                              ] ETA:  0:18:50\r"
     ]
    },
    {
     "name": "stdout",
     "output_type": "stream",
     "text": [
      "[INFO] Training loss on epoch  15  :  0.32543\n",
      "[INFO] Validation loss on epoch  15  :  6637224512111798580219627858296793423966536458916990242693561910503602412085667759684120571762125992364009915196630759031660248825856.00000\n",
      "-------------------------------------------------------------------------------\n"
     ]
    },
    {
     "name": "stderr",
     "output_type": "stream",
     "text": [
      "Training:  40% [-------------------                             ] ETA:  0:18:03\r"
     ]
    },
    {
     "name": "stdout",
     "output_type": "stream",
     "text": [
      "[INFO] Training loss on epoch  16  :  0.32421\n",
      "[INFO] Validation loss on epoch  16  :  2775201705150315842693320053042264658220311241662761735069727822529062491859076513792.00000\n",
      "-------------------------------------------------------------------------------\n"
     ]
    },
    {
     "name": "stderr",
     "output_type": "stream",
     "text": [
      "Training:  42% [--------------------                            ] ETA:  0:17:17\r"
     ]
    },
    {
     "name": "stdout",
     "output_type": "stream",
     "text": [
      "[INFO] Training loss on epoch  17  :  0.32341\n",
      "[INFO] Validation loss on epoch  17  :  2986682014676153190460978151859606222468622057472.00000\n",
      "-------------------------------------------------------------------------------\n"
     ]
    },
    {
     "name": "stderr",
     "output_type": "stream",
     "text": [
      "Training:  45% [---------------------                           ] ETA:  0:16:30\r"
     ]
    },
    {
     "name": "stdout",
     "output_type": "stream",
     "text": [
      "[INFO] Training loss on epoch  18  :  0.32181\n",
      "[INFO] Validation loss on epoch  18  :  146895203855889200054272.00000\n",
      "-------------------------------------------------------------------------------\n"
     ]
    },
    {
     "name": "stderr",
     "output_type": "stream",
     "text": [
      "Training:  47% [----------------------                          ] ETA:  0:15:44\r"
     ]
    },
    {
     "name": "stdout",
     "output_type": "stream",
     "text": [
      "[INFO] Training loss on epoch  19  :  0.32103\n",
      "[INFO] Validation loss on epoch  19  :  30386254240947895163136869839296630506862386448294691227815750968431049192467001593580029476864.00000\n",
      "-------------------------------------------------------------------------------\n"
     ]
    },
    {
     "name": "stderr",
     "output_type": "stream",
     "text": [
      "Training:  50% [------------------------                        ] ETA:  0:14:58\r"
     ]
    },
    {
     "name": "stdout",
     "output_type": "stream",
     "text": [
      "[INFO] Training loss on epoch  20  :  0.32022\n",
      "[INFO] Validation loss on epoch  20  :  65282818028249.35156\n",
      "-------------------------------------------------------------------------------\n"
     ]
    },
    {
     "name": "stderr",
     "output_type": "stream",
     "text": [
      "Training:  52% [-------------------------                       ] ETA:  0:14:12\r"
     ]
    },
    {
     "name": "stdout",
     "output_type": "stream",
     "text": [
      "[INFO] Training loss on epoch  21  :  0.31945\n",
      "[INFO] Validation loss on epoch  21  :  185457392079.32410\n",
      "-------------------------------------------------------------------------------\n"
     ]
    },
    {
     "name": "stderr",
     "output_type": "stream",
     "text": [
      "Training:  55% [--------------------------                      ] ETA:  0:13:27\r"
     ]
    },
    {
     "name": "stdout",
     "output_type": "stream",
     "text": [
      "[INFO] Training loss on epoch  22  :  0.31860\n",
      "[INFO] Validation loss on epoch  22  :  536780558057458176.00000\n",
      "-------------------------------------------------------------------------------\n"
     ]
    },
    {
     "name": "stderr",
     "output_type": "stream",
     "text": [
      "Training:  57% [---------------------------                     ] ETA:  0:12:42\r"
     ]
    },
    {
     "name": "stdout",
     "output_type": "stream",
     "text": [
      "[INFO] Training loss on epoch  23  :  0.31777\n",
      "[INFO] Validation loss on epoch  23  :  496160961899.26202\n",
      "-------------------------------------------------------------------------------\n"
     ]
    },
    {
     "name": "stderr",
     "output_type": "stream",
     "text": [
      "Training:  60% [----------------------------                    ] ETA:  0:11:57\r"
     ]
    },
    {
     "name": "stdout",
     "output_type": "stream",
     "text": [
      "[INFO] Training loss on epoch  24  :  0.31728\n",
      "[INFO] Validation loss on epoch  24  :  3938602497.26172\n",
      "-------------------------------------------------------------------------------\n"
     ]
    },
    {
     "name": "stderr",
     "output_type": "stream",
     "text": [
      "Training:  62% [------------------------------                  ] ETA:  0:11:11\r"
     ]
    },
    {
     "name": "stdout",
     "output_type": "stream",
     "text": [
      "[INFO] Training loss on epoch  25  :  0.31647\n",
      "[INFO] Validation loss on epoch  25  :  0.58353\n",
      "-------------------------------------------------------------------------------\n"
     ]
    },
    {
     "name": "stderr",
     "output_type": "stream",
     "text": [
      "Training:  65% [-------------------------------                 ] ETA:  0:10:26\r"
     ]
    },
    {
     "name": "stdout",
     "output_type": "stream",
     "text": [
      "[INFO] Training loss on epoch  26  :  0.31616\n",
      "[INFO] Validation loss on epoch  26  :  0.33207\n",
      "-------------------------------------------------------------------------------\n"
     ]
    },
    {
     "name": "stderr",
     "output_type": "stream",
     "text": [
      "Training:  67% [--------------------------------                ] ETA:  0:09:41\r"
     ]
    },
    {
     "name": "stdout",
     "output_type": "stream",
     "text": [
      "[INFO] Training loss on epoch  27  :  0.31541\n",
      "[INFO] Validation loss on epoch  27  :  0.32376\n",
      "-------------------------------------------------------------------------------\n"
     ]
    },
    {
     "name": "stderr",
     "output_type": "stream",
     "text": [
      "Training:  70% [---------------------------------               ] ETA:  0:08:56\r"
     ]
    },
    {
     "name": "stdout",
     "output_type": "stream",
     "text": [
      "[INFO] Training loss on epoch  28  :  0.31495\n",
      "[INFO] Validation loss on epoch  28  :  0.32877\n",
      "-------------------------------------------------------------------------------\n"
     ]
    },
    {
     "name": "stderr",
     "output_type": "stream",
     "text": [
      "Training:  72% [----------------------------------              ] ETA:  0:08:10\r"
     ]
    },
    {
     "name": "stdout",
     "output_type": "stream",
     "text": [
      "[INFO] Training loss on epoch  29  :  0.31467\n",
      "[INFO] Validation loss on epoch  29  :  0.31683\n",
      "-------------------------------------------------------------------------------\n"
     ]
    },
    {
     "name": "stderr",
     "output_type": "stream",
     "text": [
      "Training:  75% [------------------------------------            ] ETA:  0:07:26\r"
     ]
    },
    {
     "name": "stdout",
     "output_type": "stream",
     "text": [
      "[INFO] Training loss on epoch  30  :  0.31411\n",
      "[INFO] Validation loss on epoch  30  :  0.32376\n",
      "-------------------------------------------------------------------------------\n"
     ]
    },
    {
     "name": "stderr",
     "output_type": "stream",
     "text": [
      "Training:  77% [-------------------------------------           ] ETA:  0:06:41\r"
     ]
    },
    {
     "name": "stdout",
     "output_type": "stream",
     "text": [
      "[INFO] Training loss on epoch  31  :  0.31358\n",
      "[INFO] Validation loss on epoch  31  :  0.31328\n",
      "-------------------------------------------------------------------------------\n"
     ]
    },
    {
     "name": "stderr",
     "output_type": "stream",
     "text": [
      "Training:  80% [--------------------------------------          ] ETA:  0:05:56\r"
     ]
    },
    {
     "name": "stdout",
     "output_type": "stream",
     "text": [
      "[INFO] Training loss on epoch  32  :  0.31304\n",
      "[INFO] Validation loss on epoch  32  :  0.31382\n",
      "-------------------------------------------------------------------------------\n"
     ]
    },
    {
     "name": "stderr",
     "output_type": "stream",
     "text": [
      "Training:  82% [---------------------------------------         ] ETA:  0:05:11\r"
     ]
    },
    {
     "name": "stdout",
     "output_type": "stream",
     "text": [
      "[INFO] Training loss on epoch  33  :  0.31263\n",
      "[INFO] Validation loss on epoch  33  :  0.31353\n",
      "-------------------------------------------------------------------------------\n"
     ]
    },
    {
     "name": "stderr",
     "output_type": "stream",
     "text": [
      "Training:  85% [----------------------------------------        ] ETA:  0:04:26\r"
     ]
    },
    {
     "name": "stdout",
     "output_type": "stream",
     "text": [
      "[INFO] Training loss on epoch  34  :  0.31247\n",
      "[INFO] Validation loss on epoch  34  :  0.31284\n",
      "-------------------------------------------------------------------------------\n"
     ]
    },
    {
     "name": "stderr",
     "output_type": "stream",
     "text": [
      "Training:  87% [------------------------------------------      ] ETA:  0:03:42\r"
     ]
    },
    {
     "name": "stdout",
     "output_type": "stream",
     "text": [
      "[INFO] Training loss on epoch  35  :  0.31171\n",
      "[INFO] Validation loss on epoch  35  :  0.31252\n",
      "-------------------------------------------------------------------------------\n"
     ]
    },
    {
     "name": "stderr",
     "output_type": "stream",
     "text": [
      "Training:  90% [-------------------------------------------     ] ETA:  0:02:57\r"
     ]
    },
    {
     "name": "stdout",
     "output_type": "stream",
     "text": [
      "[INFO] Training loss on epoch  36  :  0.31165\n",
      "[INFO] Validation loss on epoch  36  :  0.31251\n",
      "-------------------------------------------------------------------------------\n"
     ]
    },
    {
     "name": "stderr",
     "output_type": "stream",
     "text": [
      "Training:  92% [--------------------------------------------    ] ETA:  0:02:13\r"
     ]
    },
    {
     "name": "stdout",
     "output_type": "stream",
     "text": [
      "[INFO] Training loss on epoch  37  :  0.31112\n",
      "[INFO] Validation loss on epoch  37  :  0.31267\n",
      "-------------------------------------------------------------------------------\n"
     ]
    },
    {
     "name": "stderr",
     "output_type": "stream",
     "text": [
      "Training:  95% [---------------------------------------------   ] ETA:  0:01:28\r"
     ]
    },
    {
     "name": "stdout",
     "output_type": "stream",
     "text": [
      "[INFO] Training loss on epoch  38  :  0.31047\n",
      "[INFO] Validation loss on epoch  38  :  0.31243\n",
      "-------------------------------------------------------------------------------\n"
     ]
    },
    {
     "name": "stderr",
     "output_type": "stream",
     "text": [
      "Training:  97% [----------------------------------------------  ] ETA:  0:00:44\r"
     ]
    },
    {
     "name": "stdout",
     "output_type": "stream",
     "text": [
      "[INFO] Training loss on epoch  39  :  0.31012\n",
      "[INFO] Validation loss on epoch  39  :  0.31252\n",
      "-------------------------------------------------------------------------------\n"
     ]
    },
    {
     "name": "stderr",
     "output_type": "stream",
     "text": [
      "Training: 100% [------------------------------------------------] Time: 0:29:35\r"
     ]
    },
    {
     "name": "stdout",
     "output_type": "stream",
     "text": [
      "[INFO] Training loss on epoch  40  :  0.30993\n",
      "[INFO] Validation loss on epoch  40  :  0.31258\n",
      "-------------------------------------------------------------------------------\n"
     ]
    },
    {
     "name": "stderr",
     "output_type": "stream",
     "text": [
      "\n"
     ]
    }
   ],
   "source": [
    "print(\"[INFO] Batch size : \", batch_size)\n",
    "print(\"[INFO] Training epochs number : \", num_epochs)\n",
    "train_err, val_err = clf.fit(X_train, y_train, num_epochs, batch_size=batch_size)"
   ]
  },
  {
   "cell_type": "markdown",
   "metadata": {},
   "source": [
    "### Evaluation"
   ]
  },
  {
   "cell_type": "code",
   "execution_count": 30,
   "metadata": {},
   "outputs": [
    {
     "data": {
      "image/png": "[encoded data removed]",
      "text/plain": [
       "<Figure size 432x288 with 1 Axes>"
      ]
     },
     "metadata": {
      "needs_background": "light"
     },
     "output_type": "display_data"
    }
   ],
   "source": [
    "# Training and validation error plot\n",
    "n = len(train_err)\n",
    "training, = plt.plot(range(n), train_err, label=\"Training Error\")\n",
    "validation, = plt.plot(range(n), val_err, label=\"Validation Error\")\n",
    "plt.legend(handles=[training, validation])\n",
    "plt.title(\"Error Plot using \"+str(opti))\n",
    "plt.ylabel('Error')\n",
    "plt.xlabel('Iterations')\n",
    "plt.show()"
   ]
  },
  {
   "cell_type": "code",
   "execution_count": 31,
   "metadata": {},
   "outputs": [],
   "source": [
    "x_tester = X_test.reshape(X_test.shape[0], -1, 2,32,32)\n",
    "x_test_original = X_test.reshape(X_test.shape[0], 2048,1)"
   ]
  },
  {
   "cell_type": "code",
   "execution_count": 32,
   "metadata": {},
   "outputs": [
    {
     "name": "stdout",
     "output_type": "stream",
     "text": [
      "[[ 1.64886659e-04 -2.85909354e-04 -1.71548704e-04 ... -7.70864308e-04\n",
      "   4.32076692e-04 -2.94914018e-05]]\n"
     ]
    },
    {
     "data": {
      "image/png": "[encoded data removed]",
      "text/plain": [
       "<Figure size 432x288 with 1 Axes>"
      ]
     },
     "metadata": {
      "needs_background": "light"
     },
     "output_type": "display_data"
    }
   ],
   "source": [
    "index_pred = 54\n",
    "y_pred = clf.predict(x_tester[index_pred])\n",
    "print(y_pred)\n",
    "plt.title(\"Predicted Signal\")\n",
    "plt.plot(np.squeeze(np.abs(y_pred)))\n",
    "plt.show()"
   ]
  },
  {
   "cell_type": "code",
   "execution_count": 33,
   "metadata": {},
   "outputs": [
    {
     "data": {
      "image/png": "[encoded data removed]",
      "text/plain": [
       "<Figure size 432x288 with 1 Axes>"
      ]
     },
     "metadata": {
      "needs_background": "light"
     },
     "output_type": "display_data"
    }
   ],
   "source": [
    "plt.title(\"Predicted Signal vs Original\")\n",
    "plt.plot(np.squeeze(np.abs(y_pred)), label=\"prediction\")\n",
    "plt.plot(np.squeeze(np.abs(y_test[index_pred])), label=\"original\")\n",
    "plt.legend()\n",
    "plt.show()"
   ]
  },
  {
   "cell_type": "markdown",
   "metadata": {},
   "source": [
    "### Train Con2D simple"
   ]
  },
  {
   "cell_type": "code",
   "execution_count": 27,
   "metadata": {},
   "outputs": [],
   "source": [
    "num_epochs = 10\n",
    "batch_size = 32"
   ]
  },
  {
   "cell_type": "code",
   "execution_count": 28,
   "metadata": {},
   "outputs": [
    {
     "name": "stderr",
     "output_type": "stream",
     "text": [
      "Training:   0% [                                               ] ETA:  --:--:--\r"
     ]
    },
    {
     "name": "stdout",
     "output_type": "stream",
     "text": [
      "[INFO] Batch size :  32\n",
      "[INFO] Training epochs number :  10\n"
     ]
    },
    {
     "name": "stderr",
     "output_type": "stream",
     "text": [
      "Training:  10% [----                                            ] ETA:  0:08:01\r"
     ]
    },
    {
     "name": "stdout",
     "output_type": "stream",
     "text": [
      "[INFO] Training loss on epoch  1  :  0.46162\n",
      "[INFO] Validation loss on epoch  1  :  0.62825\n",
      "-------------------------------------------------------------------------------\n"
     ]
    },
    {
     "name": "stderr",
     "output_type": "stream",
     "text": [
      "Training:  20% [---------                                       ] ETA:  0:06:47\r"
     ]
    },
    {
     "name": "stdout",
     "output_type": "stream",
     "text": [
      "[INFO] Training loss on epoch  2  :  0.38110\n",
      "[INFO] Validation loss on epoch  2  :  0.36889\n",
      "-------------------------------------------------------------------------------\n"
     ]
    },
    {
     "name": "stderr",
     "output_type": "stream",
     "text": [
      "Training:  30% [--------------                                  ] ETA:  0:05:47\r"
     ]
    },
    {
     "name": "stdout",
     "output_type": "stream",
     "text": [
      "[INFO] Training loss on epoch  3  :  0.35000\n",
      "[INFO] Validation loss on epoch  3  :  0.32711\n",
      "-------------------------------------------------------------------------------\n"
     ]
    },
    {
     "name": "stderr",
     "output_type": "stream",
     "text": [
      "Training:  40% [-------------------                             ] ETA:  0:04:53\r"
     ]
    },
    {
     "name": "stdout",
     "output_type": "stream",
     "text": [
      "[INFO] Training loss on epoch  4  :  0.33816\n",
      "[INFO] Validation loss on epoch  4  :  0.31680\n",
      "-------------------------------------------------------------------------------\n"
     ]
    },
    {
     "name": "stderr",
     "output_type": "stream",
     "text": [
      "Training:  50% [------------------------                        ] ETA:  0:04:00\r"
     ]
    },
    {
     "name": "stdout",
     "output_type": "stream",
     "text": [
      "[INFO] Training loss on epoch  5  :  0.33085\n",
      "[INFO] Validation loss on epoch  5  :  0.31323\n",
      "-------------------------------------------------------------------------------\n"
     ]
    },
    {
     "name": "stderr",
     "output_type": "stream",
     "text": [
      "Training:  60% [----------------------------                    ] ETA:  0:03:15\r"
     ]
    },
    {
     "name": "stdout",
     "output_type": "stream",
     "text": [
      "[INFO] Training loss on epoch  6  :  0.32529\n",
      "[INFO] Validation loss on epoch  6  :  0.31138\n",
      "-------------------------------------------------------------------------------\n"
     ]
    },
    {
     "name": "stderr",
     "output_type": "stream",
     "text": [
      "Training:  70% [---------------------------------               ] ETA:  0:02:28\r"
     ]
    },
    {
     "name": "stdout",
     "output_type": "stream",
     "text": [
      "[INFO] Training loss on epoch  7  :  0.32103\n",
      "[INFO] Validation loss on epoch  7  :  0.31039\n",
      "-------------------------------------------------------------------------------\n"
     ]
    },
    {
     "name": "stderr",
     "output_type": "stream",
     "text": [
      "Training:  80% [--------------------------------------          ] ETA:  0:01:37\r"
     ]
    },
    {
     "name": "stdout",
     "output_type": "stream",
     "text": [
      "[INFO] Training loss on epoch  8  :  0.31825\n",
      "[INFO] Validation loss on epoch  8  :  0.30951\n",
      "-------------------------------------------------------------------------------\n"
     ]
    },
    {
     "name": "stderr",
     "output_type": "stream",
     "text": [
      "Training:  90% [-------------------------------------------     ] ETA:  0:00:48\r"
     ]
    },
    {
     "name": "stdout",
     "output_type": "stream",
     "text": [
      "[INFO] Training loss on epoch  9  :  0.31598\n",
      "[INFO] Validation loss on epoch  9  :  0.30862\n",
      "-------------------------------------------------------------------------------\n"
     ]
    },
    {
     "name": "stderr",
     "output_type": "stream",
     "text": [
      "Training: 100% [------------------------------------------------] Time: 0:07:56\r"
     ]
    },
    {
     "name": "stdout",
     "output_type": "stream",
     "text": [
      "[INFO] Training loss on epoch  10  :  0.31362\n",
      "[INFO] Validation loss on epoch  10  :  0.30755\n",
      "-------------------------------------------------------------------------------\n"
     ]
    },
    {
     "name": "stderr",
     "output_type": "stream",
     "text": [
      "\n"
     ]
    }
   ],
   "source": [
    "print(\"[INFO] Batch size : \", batch_size)\n",
    "print(\"[INFO] Training epochs number : \", num_epochs)\n",
    "train_err, val_err = clf.fit(X_train, y_train, num_epochs, batch_size=batch_size)"
   ]
  },
  {
   "cell_type": "markdown",
   "metadata": {},
   "source": [
    "### Evaluation"
   ]
  },
  {
   "cell_type": "code",
   "execution_count": 31,
   "metadata": {},
   "outputs": [
    {
     "data": {
      "image/png": "[encoded data removed]",
      "text/plain": [
       "<Figure size 432x288 with 1 Axes>"
      ]
     },
     "metadata": {
      "needs_background": "light"
     },
     "output_type": "display_data"
    }
   ],
   "source": [
    "# Training and validation error plot\n",
    "n = len(train_err)\n",
    "training, = plt.plot(range(n), train_err, label=\"Training Error\")\n",
    "validation, = plt.plot(range(n), val_err, label=\"Validation Error\")\n",
    "plt.legend(handles=[training, validation])\n",
    "plt.title(\"Error Plot using \"+str(opti))\n",
    "plt.ylabel('Error')\n",
    "plt.xlabel('Iterations')\n",
    "plt.show()"
   ]
  },
  {
   "cell_type": "code",
   "execution_count": 32,
   "metadata": {},
   "outputs": [
    {
     "name": "stdout",
     "output_type": "stream",
     "text": [
      "Test loss: 0\n"
     ]
    }
   ],
   "source": [
    "_, loss = clf.test_on_batch(X_test, y_test)\n",
    "print (\"Test loss:\", loss)"
   ]
  },
  {
   "cell_type": "code",
   "execution_count": 34,
   "metadata": {},
   "outputs": [],
   "source": [
    "x_tester = X_test.reshape(X_test.shape[0], -1, 2,32,32)\n",
    "x_test_original = X_test.reshape(X_test.shape[0], 2048,1)"
   ]
  },
  {
   "cell_type": "code",
   "execution_count": 35,
   "metadata": {},
   "outputs": [],
   "source": [
    "index_pred = 54"
   ]
  },
  {
   "cell_type": "code",
   "execution_count": 36,
   "metadata": {},
   "outputs": [
    {
     "name": "stdout",
     "output_type": "stream",
     "text": [
      "[[0.04409289 0.00688274 0.04464493 ... 0.06249855 0.03349153 0.05991256]]\n"
     ]
    },
    {
     "data": {
      "image/png": "[encoded data removed]",
      "text/plain": [
       "<Figure size 432x288 with 1 Axes>"
      ]
     },
     "metadata": {
      "needs_background": "light"
     },
     "output_type": "display_data"
    }
   ],
   "source": [
    "y_pred = clf.predict(x_tester[index_pred])\n",
    "print(y_pred)\n",
    "plt.title(\"Predicted Signal\")\n",
    "plt.plot(np.squeeze(np.abs(y_pred)))\n",
    "plt.show()"
   ]
  },
  {
   "cell_type": "code",
   "execution_count": 37,
   "metadata": {},
   "outputs": [
    {
     "data": {
      "image/png": "[encoded data removed]",
      "text/plain": [
       "<Figure size 432x288 with 1 Axes>"
      ]
     },
     "metadata": {
      "needs_background": "light"
     },
     "output_type": "display_data"
    }
   ],
   "source": [
    "plt.title(\"Predicted Signal vs Original\")\n",
    "plt.plot(np.squeeze(np.abs(y_pred)), label=\"prediction\")\n",
    "plt.plot(np.squeeze(np.abs(y_test[index_pred])), label=\"original\")\n",
    "plt.legend()\n",
    "plt.show()"
   ]
  },
  {
   "cell_type": "code",
   "execution_count": 38,
   "metadata": {},
   "outputs": [
    {
     "name": "stdout",
     "output_type": "stream",
     "text": [
      "max val : 0.9467448413274234\n",
      "shape  : (1, 2048)\n"
     ]
    }
   ],
   "source": [
    "print (\"max val :\", np.max(y_pred))\n",
    "print (\"shape  :\", y_pred.shape)"
   ]
  }
 ],
 "metadata": {
  "kernelspec": {
   "display_name": "Python 3.6.8 64-bit",
   "language": "python",
   "name": "python36864bit5d1453442e8543df8126f0c5c89733bf"
  },
  "language_info": {
   "codemirror_mode": {
    "name": "ipython",
    "version": 3
   },
   "file_extension": ".py",
   "mimetype": "text/x-python",
   "name": "python",
   "nbconvert_exporter": "python",
   "pygments_lexer": "ipython3",
   "version": "3.6.8"
  }
 },
 "nbformat": 4,
 "nbformat_minor": 2
}
