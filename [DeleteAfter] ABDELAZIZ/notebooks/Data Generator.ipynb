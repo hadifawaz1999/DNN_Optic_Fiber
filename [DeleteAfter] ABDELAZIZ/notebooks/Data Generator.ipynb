{
 "cells": [
  {
   "cell_type": "code",
   "execution_count": 19,
   "metadata": {},
   "outputs": [],
   "source": [
    "from __future__ import print_function\n",
    "from sklearn import datasets\n",
    "import matplotlib.pyplot as plt\n",
    "import numpy as np\n",
    "\n",
    "import pandas as pd\n",
    "from numpy import save\n",
    "import matplotlib.pyplot as plt\n",
    "from tqdm import tqdm\n",
    "\n",
    "from sklearn.model_selection import train_test_split\n",
    "from sklearn import preprocessing\n",
    "from sklearn.utils import shuffle\n",
    "from sklearn.preprocessing import MinMaxScaler\n",
    "\n",
    "import time\n"
   ]
  },
  {
   "cell_type": "code",
   "execution_count": 2,
   "metadata": {},
   "outputs": [
    {
     "name": "stderr",
     "output_type": "stream",
     "text": [
      "Using TensorFlow backend.\n"
     ]
    }
   ],
   "source": [
    "import sys\n",
    "\n",
    "sys.path.append(\"C:/Users/admin/Desktop/IP Paris/MICAS/Cours/910/913 - Deep Learning/Project/\")\n",
    "\n",
    "# Import helper functions\n",
    "from networks import NeuralNetwork\n",
    "from optimization.optimizers import StochasticGradientDescent, Adam, RMSprop, Adagrad, Adadelta\n",
    "from networks.loss_functions import CrossEntropy, SquareLoss\n",
    "from utils.misc import bar_widgets\n",
    "from networks.layers import Dense, Dropout, Activation, BatchNormalization\n",
    "\n",
    "from helpers.helper import *\n",
    "from helpers.processing import *\n",
    "\n",
    "from Channel.parameters import *\n",
    "from Channel.transmitor import *\n",
    "from Channel.modulator import *\n",
    "from Channel.channel import *\n",
    "from Channel.equalizer import *\n",
    "from Channel.demodulator import *\n",
    "from Channel.detector import *\n",
    "from nnet_Generator.NNetGenerator import *"
   ]
  },
  {
   "cell_type": "code",
   "execution_count": null,
   "metadata": {},
   "outputs": [],
   "source": [
    "import matplotlib.pyplot as plt \n",
    "import numpy as np\n",
    "import glob\n",
    "import os, sys\n",
    "fpath =\"path_Of_my_final_Big_File\"\n",
    "npyfilespath =\"path_of_my_numpy_files\"   \n",
    "os.chdir(npyfilespath)\n",
    "npfiles= glob.glob(\"*.npy\")\n",
    "npfiles.sort()\n",
    "all_arrays = []\n",
    "for i, npfile in enumerate(npfiles):\n",
    "    all_arrays.append(np.load(os.path.join(npyfilespath, npfile)))\n",
    "np.save(fpath, np.concatenate(all_arrays))"
   ]
  },
  {
   "cell_type": "markdown",
   "metadata": {},
   "source": [
    "# Data Generation"
   ]
  },
  {
   "cell_type": "code",
   "execution_count": 3,
   "metadata": {},
   "outputs": [],
   "source": [
    "# Generating the dataset\n",
    "def generateDataset(nbrOfObservations, parameters, transmitor, modulator, equalizer, nnetGen, demodulator, detector, isGaussian =False):\n",
    "\n",
    "    X = np.ndarray((nbrOfObservations, parameters.N), dtype=np.complex128)\n",
    "    y = np.ndarray((nbrOfObservations, parameters.N), dtype=np.complex128)    \n",
    "    bits_in = np.ndarray((nbrOfObservations, parameters.nb), dtype=np.int)\n",
    "    bhat_out = np.ndarray((nbrOfObservations, parameters.nb), dtype=np.int)\n",
    "    symb_in = np.ndarray((nbrOfObservations, parameters.n))\n",
    "    symb_out = np.ndarray((nbrOfObservations, parameters.n))\n",
    "\n",
    "\n",
    "    print(\"[INFO] Generating the dataset...\")\n",
    "\n",
    "    for i in tqdm(range(nbrOfObservations)):\n",
    "        \n",
    "        # Constellation\n",
    "        constellation = transmitor.build_constellations(parameters.M)\n",
    "        \n",
    "        #source\n",
    "        source = transmitor.source(parameters.nb , parameters.p) # USE IT FOR NEXT PART OF BITS\n",
    "        \n",
    "        # Bits to Symboles - symbol sequence\n",
    "        bitsToSymbols = transmitor.bit_to_symb(source, parameters.M)\n",
    "\n",
    "        # symbol sequence, we create a list of values of the complex symbols to use them in modulation\n",
    "        s = transmitor.bit_to_symb(source, parameters.M)\n",
    "        \n",
    "        # channel - we take gaussian input\n",
    "        if isGaussian:\n",
    "            q0t = parameters.A*np.exp(-parameters.t**2) \n",
    "\n",
    "        else :\n",
    "            q0t = modulator.mod(parameters.t,s, parameters.B)  \n",
    "        \n",
    "        # Neural Net Generator\n",
    "        y_gen = nnetGen.nnet_gen(q0t)\n",
    "        # equalized y_gen\n",
    "        qzte, qzfe = equalizer.equalize(parameters.t, y_gen, parameters.z) # equalized output\n",
    "        qzte = qzte.reshape(1,-1)\n",
    "        # demodulation\n",
    "        shat = demodulator.demod(parameters.t, parameters.dt, qzte, parameters.B, parameters.n)\n",
    "\n",
    "        # detection\n",
    "        stilde, indexes = detector.detector(shat, parameters.M)\n",
    "        bhat = detector.symbols_to_bit(indexes, parameters.M)\n",
    "        \n",
    "        # SOURCE IS THE SEQUENCE OF BITS TO BE LEARNED\n",
    "        \n",
    "        # Modulated signal\n",
    "        X[i] = np.squeeze(q0t)\n",
    "        # Neural Net Generator\n",
    "        y[i] = y_gen\n",
    "        # original bit sequence (source)\n",
    "        bits_in[i] = source\n",
    "        # estimated bit sequence\n",
    "        bhat_out[i] = bhat\n",
    "        # original symbol sequence (source)\n",
    "\n",
    "        symb_in[i] = np.squeeze(s)\n",
    "        # estimated symbol sequence\n",
    "        symb_out[i] = np.squeeze(stilde)\n",
    "        \n",
    "    print(\"[INFO] The dataset is ready now !\")\n",
    "\n",
    "    return X, y, bits_in, bhat_out, symb_in, symb_out"
   ]
  },
  {
   "cell_type": "code",
   "execution_count": 4,
   "metadata": {},
   "outputs": [],
   "source": [
    "def generate_dataset_multiple_power_symbols(nbrOfObservations, nsymbols_arr, M_arr, power_arr, isGaussian=False):\n",
    "       \n",
    "    # bandwidth\n",
    "    bandwidth = 1\n",
    "    # Sample size\n",
    "    Nt = 2**10\n",
    "    # Number of Layers of the Generative network\n",
    "    nLayers = 500\n",
    "    \n",
    "    for power in power_arr :\n",
    "        for M in M_arr :\n",
    "            for nsymbols in nsymbols_arr :\n",
    "                \n",
    "                # Number of bits\n",
    "                nb = int(nsymbols * np.log2(M)) \n",
    "                timeMesh = int( (nb/bandwidth)+ (10*2/ nb) )\n",
    "                # Initialize parameters\n",
    "                parameters = Parameters(bandwidth, nsymbols, M, Nt, nLayers, timeMesh)\n",
    "                # Initialize the Transmitor\n",
    "                transmitor = Transmitor()\n",
    "                # Initialize the Transmitor\n",
    "                modulator = Modulator()\n",
    "                # Initialize the Channel\n",
    "                channel = Channel()\n",
    "                # Initialize the Equalizer\n",
    "                equalizer = Equalizer()\n",
    "                # Initialize the NNetGenerator\n",
    "                nnetGen = NNetGenerator(parameters)\n",
    "                # Initialize the Detector\n",
    "                detector = Detector(transmitor)\n",
    "                # Initialize the Demodulator\n",
    "                demodulator = Demodulator()\n",
    "                \n",
    "                X, y, bits_in, bhat_out, symb_in, symb_out = generateDataset(nbrOfObservations, parameters, transmitor, modulator, equalizer, nnetGen, demodulator, detector, isGaussian)\n",
    "                \n",
    "                # saving the dataset\n",
    "                file_saved_name = \"../data/new/data_power_\"+str(power)+\"_nsymbols_\"+str(nsymbols)+\"_M_\"+str(M)+\".npz\"\n",
    "                np.savez_compressed(file_saved_name, X=X, y=y, bits_in=bits_in, bhat_out=bhat_out, symb_in=symb_in, symb_out=symb_out)\n",
    "\n",
    "                print(\"[INFO] Saved generated data for power = \", power, \" , nsymbols = \",nsymbols , \" , M = \",M)"
   ]
  },
  {
   "cell_type": "code",
   "execution_count": 6,
   "metadata": {},
   "outputs": [
    {
     "name": "stderr",
     "output_type": "stream",
     "text": [
      "  0%|                                                                                         | 0/5000 [00:00<?, ?it/s]C:\\Python36\\lib\\site-packages\\ipykernel_launcher.py:59: ComplexWarning: Casting complex values to real discards the imaginary part\n",
      "C:\\Python36\\lib\\site-packages\\ipykernel_launcher.py:61: ComplexWarning: Casting complex values to real discards the imaginary part\n",
      "  0%|                                                                                 | 1/5000 [00:00<14:34,  5.71it/s]"
     ]
    },
    {
     "name": "stdout",
     "output_type": "stream",
     "text": [
      "[INFO] Generating the dataset...\n"
     ]
    },
    {
     "name": "stderr",
     "output_type": "stream",
     "text": [
      "100%|██████████████████████████████████████████████████████████████████████████████| 5000/5000 [13:16<00:00,  6.28it/s]\n"
     ]
    },
    {
     "name": "stdout",
     "output_type": "stream",
     "text": [
      "[INFO] The dataset is ready now !\n"
     ]
    },
    {
     "name": "stderr",
     "output_type": "stream",
     "text": [
      "\r",
      "  0%|                                                                                         | 0/5000 [00:00<?, ?it/s]"
     ]
    },
    {
     "name": "stdout",
     "output_type": "stream",
     "text": [
      "[INFO] Saved generated data for power =  0.06  , nsymbols =  1  , M =  8\n",
      "[INFO] Generating the dataset...\n"
     ]
    },
    {
     "name": "stderr",
     "output_type": "stream",
     "text": [
      "100%|██████████████████████████████████████████████████████████████████████████████| 5000/5000 [30:58<00:00,  2.69it/s]\n"
     ]
    },
    {
     "name": "stdout",
     "output_type": "stream",
     "text": [
      "[INFO] The dataset is ready now !\n"
     ]
    },
    {
     "name": "stderr",
     "output_type": "stream",
     "text": [
      "  0%|                                                                                 | 1/5000 [00:00<12:34,  6.62it/s]"
     ]
    },
    {
     "name": "stdout",
     "output_type": "stream",
     "text": [
      "[INFO] Saved generated data for power =  0.06  , nsymbols =  16  , M =  8\n",
      "[INFO] Generating the dataset...\n"
     ]
    },
    {
     "name": "stderr",
     "output_type": "stream",
     "text": [
      "100%|██████████████████████████████████████████████████████████████████████████████| 5000/5000 [11:55<00:00,  6.99it/s]\n"
     ]
    },
    {
     "name": "stdout",
     "output_type": "stream",
     "text": [
      "[INFO] The dataset is ready now !\n"
     ]
    },
    {
     "name": "stderr",
     "output_type": "stream",
     "text": [
      "\r",
      "  0%|                                                                                         | 0/5000 [00:00<?, ?it/s]"
     ]
    },
    {
     "name": "stdout",
     "output_type": "stream",
     "text": [
      "[INFO] Saved generated data for power =  0.06  , nsymbols =  1  , M =  16\n",
      "[INFO] Generating the dataset...\n"
     ]
    },
    {
     "name": "stderr",
     "output_type": "stream",
     "text": [
      "100%|██████████████████████████████████████████████████████████████████████████████| 5000/5000 [29:43<00:00,  2.80it/s]\n"
     ]
    },
    {
     "name": "stdout",
     "output_type": "stream",
     "text": [
      "[INFO] The dataset is ready now !\n"
     ]
    },
    {
     "name": "stderr",
     "output_type": "stream",
     "text": [
      "  0%|                                                                                 | 1/5000 [00:00<12:39,  6.58it/s]"
     ]
    },
    {
     "name": "stdout",
     "output_type": "stream",
     "text": [
      "[INFO] Saved generated data for power =  0.06  , nsymbols =  16  , M =  16\n",
      "[INFO] Generating the dataset...\n"
     ]
    },
    {
     "name": "stderr",
     "output_type": "stream",
     "text": [
      "100%|██████████████████████████████████████████████████████████████████████████████| 5000/5000 [12:01<00:00,  6.93it/s]\n"
     ]
    },
    {
     "name": "stdout",
     "output_type": "stream",
     "text": [
      "[INFO] The dataset is ready now !\n"
     ]
    },
    {
     "name": "stderr",
     "output_type": "stream",
     "text": [
      "\r",
      "  0%|                                                                                         | 0/5000 [00:00<?, ?it/s]"
     ]
    },
    {
     "name": "stdout",
     "output_type": "stream",
     "text": [
      "[INFO] Saved generated data for power =  0.06  , nsymbols =  1  , M =  32\n",
      "[INFO] Generating the dataset...\n"
     ]
    },
    {
     "name": "stderr",
     "output_type": "stream",
     "text": [
      "100%|██████████████████████████████████████████████████████████████████████████████| 5000/5000 [29:10<00:00,  2.86it/s]\n"
     ]
    },
    {
     "name": "stdout",
     "output_type": "stream",
     "text": [
      "[INFO] The dataset is ready now !\n"
     ]
    },
    {
     "name": "stderr",
     "output_type": "stream",
     "text": [
      "  0%|                                                                                 | 1/5000 [00:00<12:44,  6.54it/s]"
     ]
    },
    {
     "name": "stdout",
     "output_type": "stream",
     "text": [
      "[INFO] Saved generated data for power =  0.06  , nsymbols =  16  , M =  32\n",
      "[INFO] Generating the dataset...\n"
     ]
    },
    {
     "name": "stderr",
     "output_type": "stream",
     "text": [
      "100%|██████████████████████████████████████████████████████████████████████████████| 5000/5000 [12:25<00:00,  6.71it/s]\n"
     ]
    },
    {
     "name": "stdout",
     "output_type": "stream",
     "text": [
      "[INFO] The dataset is ready now !\n"
     ]
    },
    {
     "name": "stderr",
     "output_type": "stream",
     "text": [
      "\r",
      "  0%|                                                                                         | 0/5000 [00:00<?, ?it/s]"
     ]
    },
    {
     "name": "stdout",
     "output_type": "stream",
     "text": [
      "[INFO] Saved generated data for power =  0.06  , nsymbols =  1  , M =  64\n",
      "[INFO] Generating the dataset...\n"
     ]
    },
    {
     "name": "stderr",
     "output_type": "stream",
     "text": [
      "100%|██████████████████████████████████████████████████████████████████████████████| 5000/5000 [29:19<00:00,  2.84it/s]\n"
     ]
    },
    {
     "name": "stdout",
     "output_type": "stream",
     "text": [
      "[INFO] The dataset is ready now !\n"
     ]
    },
    {
     "name": "stderr",
     "output_type": "stream",
     "text": [
      "  0%|                                                                                 | 1/5000 [00:00<12:39,  6.58it/s]"
     ]
    },
    {
     "name": "stdout",
     "output_type": "stream",
     "text": [
      "[INFO] Saved generated data for power =  0.06  , nsymbols =  16  , M =  64\n",
      "[INFO] Generating the dataset...\n"
     ]
    },
    {
     "name": "stderr",
     "output_type": "stream",
     "text": [
      "100%|██████████████████████████████████████████████████████████████████████████████| 5000/5000 [11:40<00:00,  7.14it/s]\n"
     ]
    },
    {
     "name": "stdout",
     "output_type": "stream",
     "text": [
      "[INFO] The dataset is ready now !\n"
     ]
    },
    {
     "name": "stderr",
     "output_type": "stream",
     "text": [
      "\r",
      "  0%|                                                                                         | 0/5000 [00:00<?, ?it/s]"
     ]
    },
    {
     "name": "stdout",
     "output_type": "stream",
     "text": [
      "[INFO] Saved generated data for power =  0.05  , nsymbols =  1  , M =  8\n",
      "[INFO] Generating the dataset...\n"
     ]
    },
    {
     "name": "stderr",
     "output_type": "stream",
     "text": [
      "100%|██████████████████████████████████████████████████████████████████████████████| 5000/5000 [28:58<00:00,  2.88it/s]\n"
     ]
    },
    {
     "name": "stdout",
     "output_type": "stream",
     "text": [
      "[INFO] The dataset is ready now !\n"
     ]
    },
    {
     "name": "stderr",
     "output_type": "stream",
     "text": [
      "  0%|                                                                                 | 1/5000 [00:00<12:39,  6.58it/s]"
     ]
    },
    {
     "name": "stdout",
     "output_type": "stream",
     "text": [
      "[INFO] Saved generated data for power =  0.05  , nsymbols =  16  , M =  8\n",
      "[INFO] Generating the dataset...\n"
     ]
    },
    {
     "name": "stderr",
     "output_type": "stream",
     "text": [
      "100%|██████████████████████████████████████████████████████████████████████████████| 5000/5000 [11:47<00:00,  7.07it/s]\n"
     ]
    },
    {
     "name": "stdout",
     "output_type": "stream",
     "text": [
      "[INFO] The dataset is ready now !\n"
     ]
    },
    {
     "name": "stderr",
     "output_type": "stream",
     "text": [
      "\r",
      "  0%|                                                                                         | 0/5000 [00:00<?, ?it/s]"
     ]
    },
    {
     "name": "stdout",
     "output_type": "stream",
     "text": [
      "[INFO] Saved generated data for power =  0.05  , nsymbols =  1  , M =  16\n",
      "[INFO] Generating the dataset...\n"
     ]
    },
    {
     "name": "stderr",
     "output_type": "stream",
     "text": [
      "100%|██████████████████████████████████████████████████████████████████████████████| 5000/5000 [29:31<00:00,  2.82it/s]\n"
     ]
    },
    {
     "name": "stdout",
     "output_type": "stream",
     "text": [
      "[INFO] The dataset is ready now !\n"
     ]
    },
    {
     "name": "stderr",
     "output_type": "stream",
     "text": [
      "  0%|                                                                                 | 1/5000 [00:00<12:20,  6.76it/s]"
     ]
    },
    {
     "name": "stdout",
     "output_type": "stream",
     "text": [
      "[INFO] Saved generated data for power =  0.05  , nsymbols =  16  , M =  16\n",
      "[INFO] Generating the dataset...\n"
     ]
    },
    {
     "name": "stderr",
     "output_type": "stream",
     "text": [
      "100%|██████████████████████████████████████████████████████████████████████████████| 5000/5000 [12:04<00:00,  6.90it/s]\n"
     ]
    },
    {
     "name": "stdout",
     "output_type": "stream",
     "text": [
      "[INFO] The dataset is ready now !\n"
     ]
    },
    {
     "name": "stderr",
     "output_type": "stream",
     "text": [
      "\r",
      "  0%|                                                                                         | 0/5000 [00:00<?, ?it/s]"
     ]
    },
    {
     "name": "stdout",
     "output_type": "stream",
     "text": [
      "[INFO] Saved generated data for power =  0.05  , nsymbols =  1  , M =  32\n",
      "[INFO] Generating the dataset...\n"
     ]
    },
    {
     "name": "stderr",
     "output_type": "stream",
     "text": [
      "100%|██████████████████████████████████████████████████████████████████████████████| 5000/5000 [29:01<00:00,  2.87it/s]\n"
     ]
    },
    {
     "name": "stdout",
     "output_type": "stream",
     "text": [
      "[INFO] The dataset is ready now !\n"
     ]
    },
    {
     "name": "stderr",
     "output_type": "stream",
     "text": [
      "  0%|                                                                                 | 1/5000 [00:00<12:30,  6.67it/s]"
     ]
    },
    {
     "name": "stdout",
     "output_type": "stream",
     "text": [
      "[INFO] Saved generated data for power =  0.05  , nsymbols =  16  , M =  32\n",
      "[INFO] Generating the dataset...\n"
     ]
    },
    {
     "name": "stderr",
     "output_type": "stream",
     "text": [
      "100%|██████████████████████████████████████████████████████████████████████████████| 5000/5000 [12:30<00:00,  6.66it/s]\n"
     ]
    },
    {
     "name": "stdout",
     "output_type": "stream",
     "text": [
      "[INFO] The dataset is ready now !\n"
     ]
    },
    {
     "name": "stderr",
     "output_type": "stream",
     "text": [
      "\r",
      "  0%|                                                                                         | 0/5000 [00:00<?, ?it/s]"
     ]
    },
    {
     "name": "stdout",
     "output_type": "stream",
     "text": [
      "[INFO] Saved generated data for power =  0.05  , nsymbols =  1  , M =  64\n",
      "[INFO] Generating the dataset...\n"
     ]
    },
    {
     "name": "stderr",
     "output_type": "stream",
     "text": [
      "100%|██████████████████████████████████████████████████████████████████████████████| 5000/5000 [29:23<00:00,  2.83it/s]\n"
     ]
    },
    {
     "name": "stdout",
     "output_type": "stream",
     "text": [
      "[INFO] The dataset is ready now !\n"
     ]
    },
    {
     "name": "stderr",
     "output_type": "stream",
     "text": [
      "  0%|                                                                                 | 1/5000 [00:00<11:44,  7.09it/s]"
     ]
    },
    {
     "name": "stdout",
     "output_type": "stream",
     "text": [
      "[INFO] Saved generated data for power =  0.05  , nsymbols =  16  , M =  64\n",
      "[INFO] Generating the dataset...\n"
     ]
    },
    {
     "name": "stderr",
     "output_type": "stream",
     "text": [
      "100%|██████████████████████████████████████████████████████████████████████████████| 5000/5000 [11:43<00:00,  7.10it/s]\n"
     ]
    },
    {
     "name": "stdout",
     "output_type": "stream",
     "text": [
      "[INFO] The dataset is ready now !\n"
     ]
    },
    {
     "name": "stderr",
     "output_type": "stream",
     "text": [
      "\r",
      "  0%|                                                                                         | 0/5000 [00:00<?, ?it/s]"
     ]
    },
    {
     "name": "stdout",
     "output_type": "stream",
     "text": [
      "[INFO] Saved generated data for power =  0.04  , nsymbols =  1  , M =  8\n",
      "[INFO] Generating the dataset...\n"
     ]
    },
    {
     "name": "stderr",
     "output_type": "stream",
     "text": [
      "100%|██████████████████████████████████████████████████████████████████████████████| 5000/5000 [28:54<00:00,  2.88it/s]\n"
     ]
    },
    {
     "name": "stdout",
     "output_type": "stream",
     "text": [
      "[INFO] The dataset is ready now !\n"
     ]
    },
    {
     "name": "stderr",
     "output_type": "stream",
     "text": [
      "  0%|                                                                                 | 1/5000 [00:00<11:29,  7.25it/s]"
     ]
    },
    {
     "name": "stdout",
     "output_type": "stream",
     "text": [
      "[INFO] Saved generated data for power =  0.04  , nsymbols =  16  , M =  8\n",
      "[INFO] Generating the dataset...\n"
     ]
    },
    {
     "name": "stderr",
     "output_type": "stream",
     "text": [
      "100%|██████████████████████████████████████████████████████████████████████████████| 5000/5000 [11:35<00:00,  7.19it/s]\n"
     ]
    },
    {
     "name": "stdout",
     "output_type": "stream",
     "text": [
      "[INFO] The dataset is ready now !\n"
     ]
    },
    {
     "name": "stderr",
     "output_type": "stream",
     "text": [
      "\r",
      "  0%|                                                                                         | 0/5000 [00:00<?, ?it/s]"
     ]
    },
    {
     "name": "stdout",
     "output_type": "stream",
     "text": [
      "[INFO] Saved generated data for power =  0.04  , nsymbols =  1  , M =  16\n",
      "[INFO] Generating the dataset...\n"
     ]
    },
    {
     "name": "stderr",
     "output_type": "stream",
     "text": [
      "100%|██████████████████████████████████████████████████████████████████████████████| 5000/5000 [28:58<00:00,  2.88it/s]\n"
     ]
    },
    {
     "name": "stdout",
     "output_type": "stream",
     "text": [
      "[INFO] The dataset is ready now !\n"
     ]
    },
    {
     "name": "stderr",
     "output_type": "stream",
     "text": [
      "  0%|                                                                                 | 1/5000 [00:00<11:55,  6.99it/s]"
     ]
    },
    {
     "name": "stdout",
     "output_type": "stream",
     "text": [
      "[INFO] Saved generated data for power =  0.04  , nsymbols =  16  , M =  16\n",
      "[INFO] Generating the dataset...\n"
     ]
    },
    {
     "name": "stderr",
     "output_type": "stream",
     "text": [
      "100%|██████████████████████████████████████████████████████████████████████████████| 5000/5000 [12:09<00:00,  6.86it/s]\n"
     ]
    },
    {
     "name": "stdout",
     "output_type": "stream",
     "text": [
      "[INFO] The dataset is ready now !\n"
     ]
    },
    {
     "name": "stderr",
     "output_type": "stream",
     "text": [
      "\r",
      "  0%|                                                                                         | 0/5000 [00:00<?, ?it/s]"
     ]
    },
    {
     "name": "stdout",
     "output_type": "stream",
     "text": [
      "[INFO] Saved generated data for power =  0.04  , nsymbols =  1  , M =  32\n",
      "[INFO] Generating the dataset...\n"
     ]
    },
    {
     "name": "stderr",
     "output_type": "stream",
     "text": [
      "100%|██████████████████████████████████████████████████████████████████████████████| 5000/5000 [29:01<00:00,  2.87it/s]\n"
     ]
    },
    {
     "name": "stdout",
     "output_type": "stream",
     "text": [
      "[INFO] The dataset is ready now !\n"
     ]
    },
    {
     "name": "stderr",
     "output_type": "stream",
     "text": [
      "  0%|                                                                                 | 1/5000 [00:00<13:10,  6.33it/s]"
     ]
    },
    {
     "name": "stdout",
     "output_type": "stream",
     "text": [
      "[INFO] Saved generated data for power =  0.04  , nsymbols =  16  , M =  32\n",
      "[INFO] Generating the dataset...\n"
     ]
    },
    {
     "name": "stderr",
     "output_type": "stream",
     "text": [
      "100%|██████████████████████████████████████████████████████████████████████████████| 5000/5000 [12:37<00:00,  6.60it/s]\n"
     ]
    },
    {
     "name": "stdout",
     "output_type": "stream",
     "text": [
      "[INFO] The dataset is ready now !\n"
     ]
    },
    {
     "name": "stderr",
     "output_type": "stream",
     "text": [
      "\r",
      "  0%|                                                                                         | 0/5000 [00:00<?, ?it/s]"
     ]
    },
    {
     "name": "stdout",
     "output_type": "stream",
     "text": [
      "[INFO] Saved generated data for power =  0.04  , nsymbols =  1  , M =  64\n",
      "[INFO] Generating the dataset...\n"
     ]
    },
    {
     "name": "stderr",
     "output_type": "stream",
     "text": [
      "100%|██████████████████████████████████████████████████████████████████████████████| 5000/5000 [29:28<00:00,  2.83it/s]\n"
     ]
    },
    {
     "name": "stdout",
     "output_type": "stream",
     "text": [
      "[INFO] The dataset is ready now !\n"
     ]
    },
    {
     "name": "stderr",
     "output_type": "stream",
     "text": [
      "  0%|                                                                                 | 1/5000 [00:00<12:24,  6.71it/s]"
     ]
    },
    {
     "name": "stdout",
     "output_type": "stream",
     "text": [
      "[INFO] Saved generated data for power =  0.04  , nsymbols =  16  , M =  64\n",
      "[INFO] Generating the dataset...\n"
     ]
    },
    {
     "name": "stderr",
     "output_type": "stream",
     "text": [
      "100%|██████████████████████████████████████████████████████████████████████████████| 5000/5000 [11:40<00:00,  7.14it/s]\n"
     ]
    },
    {
     "name": "stdout",
     "output_type": "stream",
     "text": [
      "[INFO] The dataset is ready now !\n"
     ]
    },
    {
     "name": "stderr",
     "output_type": "stream",
     "text": [
      "\r",
      "  0%|                                                                                         | 0/5000 [00:00<?, ?it/s]"
     ]
    },
    {
     "name": "stdout",
     "output_type": "stream",
     "text": [
      "[INFO] Saved generated data for power =  0.02  , nsymbols =  1  , M =  8\n",
      "[INFO] Generating the dataset...\n"
     ]
    },
    {
     "name": "stderr",
     "output_type": "stream",
     "text": [
      "100%|██████████████████████████████████████████████████████████████████████████████| 5000/5000 [28:46<00:00,  2.90it/s]\n"
     ]
    },
    {
     "name": "stdout",
     "output_type": "stream",
     "text": [
      "[INFO] The dataset is ready now !\n"
     ]
    },
    {
     "name": "stderr",
     "output_type": "stream",
     "text": [
      "  0%|                                                                                 | 1/5000 [00:00<12:00,  6.94it/s]"
     ]
    },
    {
     "name": "stdout",
     "output_type": "stream",
     "text": [
      "[INFO] Saved generated data for power =  0.02  , nsymbols =  16  , M =  8\n",
      "[INFO] Generating the dataset...\n"
     ]
    },
    {
     "name": "stderr",
     "output_type": "stream",
     "text": [
      "100%|██████████████████████████████████████████████████████████████████████████████| 5000/5000 [11:52<00:00,  7.02it/s]\n"
     ]
    },
    {
     "name": "stdout",
     "output_type": "stream",
     "text": [
      "[INFO] The dataset is ready now !\n"
     ]
    },
    {
     "name": "stderr",
     "output_type": "stream",
     "text": [
      "\r",
      "  0%|                                                                                         | 0/5000 [00:00<?, ?it/s]"
     ]
    },
    {
     "name": "stdout",
     "output_type": "stream",
     "text": [
      "[INFO] Saved generated data for power =  0.02  , nsymbols =  1  , M =  16\n",
      "[INFO] Generating the dataset...\n"
     ]
    },
    {
     "name": "stderr",
     "output_type": "stream",
     "text": [
      "100%|██████████████████████████████████████████████████████████████████████████████| 5000/5000 [29:02<00:00,  2.87it/s]\n"
     ]
    },
    {
     "name": "stdout",
     "output_type": "stream",
     "text": [
      "[INFO] The dataset is ready now !\n"
     ]
    },
    {
     "name": "stderr",
     "output_type": "stream",
     "text": [
      "  0%|                                                                                 | 1/5000 [00:00<12:54,  6.45it/s]"
     ]
    },
    {
     "name": "stdout",
     "output_type": "stream",
     "text": [
      "[INFO] Saved generated data for power =  0.02  , nsymbols =  16  , M =  16\n",
      "[INFO] Generating the dataset...\n"
     ]
    },
    {
     "name": "stderr",
     "output_type": "stream",
     "text": [
      "100%|██████████████████████████████████████████████████████████████████████████████| 5000/5000 [12:15<00:00,  6.80it/s]\n"
     ]
    },
    {
     "name": "stdout",
     "output_type": "stream",
     "text": [
      "[INFO] The dataset is ready now !\n"
     ]
    },
    {
     "name": "stderr",
     "output_type": "stream",
     "text": [
      "\r",
      "  0%|                                                                                         | 0/5000 [00:00<?, ?it/s]"
     ]
    },
    {
     "name": "stdout",
     "output_type": "stream",
     "text": [
      "[INFO] Saved generated data for power =  0.02  , nsymbols =  1  , M =  32\n",
      "[INFO] Generating the dataset...\n"
     ]
    },
    {
     "name": "stderr",
     "output_type": "stream",
     "text": [
      "100%|██████████████████████████████████████████████████████████████████████████████| 5000/5000 [28:58<00:00,  2.88it/s]\n"
     ]
    },
    {
     "name": "stdout",
     "output_type": "stream",
     "text": [
      "[INFO] The dataset is ready now !\n"
     ]
    },
    {
     "name": "stderr",
     "output_type": "stream",
     "text": [
      "  0%|                                                                                 | 1/5000 [00:00<12:34,  6.62it/s]"
     ]
    },
    {
     "name": "stdout",
     "output_type": "stream",
     "text": [
      "[INFO] Saved generated data for power =  0.02  , nsymbols =  16  , M =  32\n",
      "[INFO] Generating the dataset...\n"
     ]
    },
    {
     "name": "stderr",
     "output_type": "stream",
     "text": [
      "100%|██████████████████████████████████████████████████████████████████████████████| 5000/5000 [12:18<00:00,  6.77it/s]\n"
     ]
    },
    {
     "name": "stdout",
     "output_type": "stream",
     "text": [
      "[INFO] The dataset is ready now !\n"
     ]
    },
    {
     "name": "stderr",
     "output_type": "stream",
     "text": [
      "\r",
      "  0%|                                                                                         | 0/5000 [00:00<?, ?it/s]"
     ]
    },
    {
     "name": "stdout",
     "output_type": "stream",
     "text": [
      "[INFO] Saved generated data for power =  0.02  , nsymbols =  1  , M =  64\n",
      "[INFO] Generating the dataset...\n"
     ]
    },
    {
     "name": "stderr",
     "output_type": "stream",
     "text": [
      "100%|██████████████████████████████████████████████████████████████████████████████| 5000/5000 [29:12<00:00,  2.85it/s]\n"
     ]
    },
    {
     "name": "stdout",
     "output_type": "stream",
     "text": [
      "[INFO] The dataset is ready now !\n",
      "[INFO] Saved generated data for power =  0.02  , nsymbols =  16  , M =  64\n"
     ]
    }
   ],
   "source": [
    "# Number of symbols\n",
    "nsymbols_arr = [1, 16]\n",
    "# size of the constellation\n",
    "M_arr = [8,16,32,64]\n",
    "# powers\n",
    "power_arr = [6e-2, 5e-2, 4e-2, 2e-2]\n",
    "# nbrOfObservations\n",
    "nbrOfObservations = 5000\n",
    "generate_dataset_multiple_power_symbols(nbrOfObservations, nsymbols_arr, M_arr, power_arr)"
   ]
  },
  {
   "cell_type": "markdown",
   "metadata": {},
   "source": [
    "# An example of the generated data"
   ]
  },
  {
   "cell_type": "code",
   "execution_count": 15,
   "metadata": {},
   "outputs": [],
   "source": [
    "d1 = np.load('../data/new/data_power_0.06_nsymbols_16_M_64.npz')"
   ]
  },
  {
   "cell_type": "code",
   "execution_count": 16,
   "metadata": {},
   "outputs": [],
   "source": [
    "X, y, bits_in, bhat_out, symb_in, symb_out = d1['X'], d1['y'], d1['bits_in'], d1['bhat_out'], d1['symb_in'],d1['symb_out']"
   ]
  },
  {
   "cell_type": "code",
   "execution_count": 17,
   "metadata": {},
   "outputs": [
    {
     "name": "stderr",
     "output_type": "stream",
     "text": [
      "C:\\Python36\\lib\\site-packages\\numpy\\core\\_asarray.py:83: ComplexWarning: Casting complex values to real discards the imaginary part\n",
      "  return array(a, dtype, copy=False, order=order)\n",
      "C:\\Python36\\lib\\site-packages\\numpy\\core\\_asarray.py:83: ComplexWarning: Casting complex values to real discards the imaginary part\n",
      "  return array(a, dtype, copy=False, order=order)\n"
     ]
    },
    {
     "data": {
      "text/plain": [
       "[<matplotlib.lines.Line2D at 0x207feb784a8>]"
      ]
     },
     "execution_count": 17,
     "metadata": {},
     "output_type": "execute_result"
    },
    {
     "data": {
      "image/png": "[encoded data removed]",
      "text/plain": [
       "<Figure size 432x288 with 1 Axes>"
      ]
     },
     "metadata": {
      "needs_background": "light"
     },
     "output_type": "display_data"
    }
   ],
   "source": [
    "plt.plot(X[0])\n",
    "plt.plot(y[0])"
   ]
  },
  {
   "cell_type": "code",
   "execution_count": 18,
   "metadata": {},
   "outputs": [
    {
     "data": {
      "text/plain": [
       "[<matplotlib.lines.Line2D at 0x20793e10e80>]"
      ]
     },
     "execution_count": 18,
     "metadata": {},
     "output_type": "execute_result"
    },
    {
     "data": {
      "image/png": "[encoded data removed]",
      "text/plain": [
       "<Figure size 432x288 with 1 Axes>"
      ]
     },
     "metadata": {
      "needs_background": "light"
     },
     "output_type": "display_data"
    }
   ],
   "source": [
    "plt.plot(np.abs(X[0]))\n",
    "plt.plot(np.abs(y[0]))"
   ]
  },
  {
   "cell_type": "markdown",
   "metadata": {},
   "source": [
    "# Save all files\n",
    "\n",
    "we cannot mix all data since they don't have all the same dimensions which will results on errors. That's why we split them by shapes."
   ]
  },
  {
   "cell_type": "code",
   "execution_count": 108,
   "metadata": {},
   "outputs": [],
   "source": [
    "# Load the 32 files\n",
    "data_1 = np.load('data_power_0.04_nsymbols_1_M_8.npz')\n",
    "data_2 = np.load('data_power_0.02_nsymbols_1_M_8.npz')\n",
    "data_3 = np.load('data_power_0.05_nsymbols_1_M_8.npz')\n",
    "data_4 = np.load('data_power_0.06_nsymbols_1_M_8.npz')\n",
    "\n",
    "data_5 = np.load('data_power_0.02_nsymbols_1_M_16.npz')\n",
    "data_7 = np.load('data_power_0.04_nsymbols_1_M_16.npz')\n",
    "data_8 = np.load('data_power_0.06_nsymbols_1_M_16.npz')\n",
    "data_9 = np.load('data_power_0.05_nsymbols_1_M_16.npz')\n",
    "\n",
    "data_6 = np.load('data_power_0.05_nsymbols_1_M_32.npz')\n",
    "data_10 = np.load('data_power_0.04_nsymbols_1_M_32.npz')\n",
    "data_11 = np.load('data_power_0.06_nsymbols_1_M_32.npz')\n",
    "data_12 = np.load('data_power_0.02_nsymbols_1_M_32.npz')\n",
    "\n",
    "data_13 = np.load('data_power_0.02_nsymbols_1_M_64.npz')\n",
    "data_14 = np.load('data_power_0.05_nsymbols_1_M_64.npz')\n",
    "data_15 = np.load('data_power_0.06_nsymbols_1_M_64.npz')\n",
    "data_16 = np.load('data_power_0.04_nsymbols_1_M_64.npz')\n",
    "\n",
    "data_17 = np.load('data_power_0.02_nsymbols_16_M_8.npz')\n",
    "data_18 = np.load('data_power_0.04_nsymbols_16_M_8.npz')\n",
    "data_19 = np.load('data_power_0.05_nsymbols_16_M_8.npz')\n",
    "data_20 = np.load('data_power_0.06_nsymbols_16_M_8.npz')\n",
    "\n",
    "data_21 = np.load('data_power_0.06_nsymbols_16_M_32.npz')\n",
    "data_22 = np.load('data_power_0.02_nsymbols_16_M_32.npz')\n",
    "data_23 = np.load('data_power_0.04_nsymbols_16_M_32.npz')\n",
    "data_24 = np.load('data_power_0.05_nsymbols_16_M_32.npz')\n",
    "\n",
    "data_25 = np.load('data_power_0.06_nsymbols_16_M_16.npz')\n",
    "data_26 = np.load('data_power_0.04_nsymbols_16_M_16.npz')\n",
    "data_27 = np.load('data_power_0.05_nsymbols_16_M_16.npz')\n",
    "data_28 = np.load('data_power_0.02_nsymbols_16_M_16.npz')\n",
    "\n",
    "data_29 = np.load('data_power_0.04_nsymbols_16_M_64.npz')\n",
    "data_30 = np.load('data_power_0.05_nsymbols_16_M_64.npz')\n",
    "data_31 = np.load('data_power_0.06_nsymbols_16_M_64.npz')\n",
    "data_32 = np.load('data_power_0.02_nsymbols_16_M_64.npz')"
   ]
  },
  {
   "cell_type": "markdown",
   "metadata": {},
   "source": [
    "### Modulation data"
   ]
  },
  {
   "cell_type": "code",
   "execution_count": null,
   "metadata": {},
   "outputs": [],
   "source": [
    "X = np.concatenate([data_1['X'], data_2['X'], data_3['X'], data_4['X'], data_5['X'], \n",
    "                          data_6['X'], data_7['X'], data_8['X'], data_9['X'], data_10['X'], \n",
    "                          data_11['X'], data_12['X'], data_13['X'], data_14['X'], data_15['X'],\n",
    "                          data_16['X'], data_17['X'], data_18['X'], data_19['X'], data_20['X'], \n",
    "                          data_21['X'], data_22['X'], data_23['X'], data_24['X'], data_25['X'], \n",
    "                          data_26['X'], data_27['X'], data_28['X'], data_29['X'], data_30['X'],\n",
    "                          data_31['X'], data_32['X']])\n",
    "\n",
    "y = np.concatenate([data_1['y'], data_2['y'], data_3['y'], data_4['y'], data_5['y'], \n",
    "                          data_6['y'], data_7['y'], data_8['y'], data_9['y'], data_10['y'], \n",
    "                          data_11['y'], data_12['y'], data_13['y'], data_14['y'], data_15['y'],\n",
    "                          data_16['y'], data_17['y'], data_18['y'], data_19['y'], data_20['y'], \n",
    "                          data_21['y'], data_22['y'], data_23['y'], data_24['y'], data_25['y'], \n",
    "                          data_26['y'], data_27['y'], data_28['y'], data_29['y'], data_30['y'],\n",
    "                          data_31['y'], data_32['y']])"
   ]
  },
  {
   "cell_type": "code",
   "execution_count": 107,
   "metadata": {},
   "outputs": [],
   "source": [
    "# Save the new npz file\n",
    "np.savez_compressed('160K_XY.npz', X=X, y=y )"
   ]
  },
  {
   "cell_type": "markdown",
   "metadata": {},
   "source": [
    "#### Data of only 16 symbols, these are easier to learn by the network"
   ]
  },
  {
   "cell_type": "code",
   "execution_count": 113,
   "metadata": {},
   "outputs": [
    {
     "data": {
      "text/plain": [
       "8"
      ]
     },
     "execution_count": 113,
     "metadata": {},
     "output_type": "execute_result"
    }
   ],
   "source": [
    "import gc\n",
    "gc.collect()"
   ]
  },
  {
   "cell_type": "code",
   "execution_count": 114,
   "metadata": {},
   "outputs": [],
   "source": [
    "X_ = np.concatenate([data_17['X'], data_18['X'], data_19['X'], data_20['X'], \n",
    "                          data_21['X'], data_22['X'], data_23['X'], data_24['X'], data_25['X'], \n",
    "                          data_26['X'], data_27['X'], data_28['X'], data_29['X'], data_30['X'],\n",
    "                          data_31['X'], data_32['X']])\n",
    "\n",
    "y_ = np.concatenate([data_17['y'], data_18['y'], data_19['y'], data_20['y'], \n",
    "                          data_21['y'], data_22['y'], data_23['y'], data_24['y'], data_25['y'], \n",
    "                          data_26['y'], data_27['y'], data_28['y'], data_29['y'], data_30['y'],\n",
    "                          data_31['y'], data_32['y']])"
   ]
  },
  {
   "cell_type": "code",
   "execution_count": 115,
   "metadata": {},
   "outputs": [],
   "source": [
    "# Save the new npz file\n",
    "np.savez_compressed('80K_XY_16_symb.npz', X=X_, y=y_ )"
   ]
  },
  {
   "cell_type": "markdown",
   "metadata": {},
   "source": [
    "### Bits-to-Bits data"
   ]
  },
  {
   "cell_type": "code",
   "execution_count": 88,
   "metadata": {},
   "outputs": [],
   "source": [
    "bits_in_3 = np.concatenate([data_1['bits_in'], data_2['bits_in'], data_3['bits_in'], data_4['bits_in']])\n",
    "bhat_out_3 = np.concatenate([data_1['bhat_out'], data_2['bhat_out'], data_3['bhat_out'], data_4['bhat_out']])\n",
    "\n",
    "bits_in_4 = np.concatenate([data_5['bits_in'], data_7['bits_in'], data_8['bits_in'], data_9['bits_in']])\n",
    "bhat_out_4 = np.concatenate([data_5['bhat_out'], data_7['bhat_out'], data_8['bhat_out'], data_9['bhat_out']])\n",
    "\n",
    "bits_in_5 = np.concatenate([data_6['bits_in'], data_10['bits_in'], data_11['bits_in'], data_12['bits_in']])\n",
    "bhat_out_5 = np.concatenate([data_6['bhat_out'], data_10['bhat_out'], data_11['bhat_out'], data_12['bhat_out']])\n",
    "\n",
    "bits_in_6 = np.concatenate([data_13['bits_in'], data_14['bits_in'], data_15['bits_in'], data_16['bits_in']])\n",
    "bhat_out_6 = np.concatenate([data_13['bhat_out'], data_14['bhat_out'], data_15['bhat_out'], data_16['bhat_out']])\n",
    "\n",
    "bits_in_48 = np.concatenate([data_17['bits_in'], data_18['bits_in'], data_19['bits_in'], data_20['bits_in']])\n",
    "bhat_out_48 = np.concatenate([data_17['bhat_out'], data_18['bhat_out'], data_19['bhat_out'], data_20['bhat_out']])\n",
    "\n",
    "bits_in_80 = np.concatenate([data_21['bits_in'], data_22['bits_in'], data_23['bits_in'], data_24['bits_in']])\n",
    "bhat_out_80 = np.concatenate([data_21['bhat_out'], data_22['bhat_out'], data_23['bhat_out'], data_24['bhat_out']])\n",
    "\n",
    "bits_in_64 = np.concatenate([data_25['bits_in'], data_26['bits_in'], data_27['bits_in'], data_28['bits_in']])\n",
    "bhat_out_64 = np.concatenate([data_25['bhat_out'], data_26['bhat_out'], data_27['bhat_out'], data_28['bhat_out']])\n",
    "\n",
    "bits_in_96 = np.concatenate([data_29['bits_in'], data_30['bits_in'], data_31['bits_in'], data_32['bits_in']])\n",
    "bhat_out_96 = np.concatenate([data_29['bhat_out'], data_30['bhat_out'], data_31['bhat_out'], data_32['bhat_out']])"
   ]
  },
  {
   "cell_type": "code",
   "execution_count": 106,
   "metadata": {},
   "outputs": [],
   "source": [
    "np.savez_compressed('20K_bits_3.npz', bits_in=bits_in_3, bhat_out=bhat_out_3)\n",
    "np.savez_compressed('20K_bits_4.npz', bits_in=bits_in_4, bhat_out=bhat_out_4)\n",
    "np.savez_compressed('20K_bits_5.npz', bits_in=bits_in_5, bhat_out=bhat_out_5)\n",
    "np.savez_compressed('20K_bits_6.npz', bits_in=bits_in_6, bhat_out=bhat_out_6)\n",
    "\n",
    "np.savez_compressed('20K_bits_48.npz', bits_in=bits_in_48, bhat_out=bhat_out_48)\n",
    "np.savez_compressed('20K_bits_80.npz', bits_in=bits_in_80, bhat_out=bhat_out_80)\n",
    "np.savez_compressed('20K_bits_64.npz', bits_in=bits_in_64, bhat_out=bhat_out_64)\n",
    "np.savez_compressed('20K_bits_96.npz', bits_in=bits_in_96, bhat_out=bhat_out_96)"
   ]
  },
  {
   "cell_type": "markdown",
   "metadata": {},
   "source": [
    "### Symbol-to-Symbol data"
   ]
  },
  {
   "cell_type": "code",
   "execution_count": 68,
   "metadata": {},
   "outputs": [],
   "source": [
    "symb_in_1 = np.concatenate([data_1['symb_in'], data_2['symb_in'], data_3['symb_in'], data_4['symb_in'], data_5['symb_in'], \n",
    "                          data_6['symb_in'], data_7['symb_in'], data_8['symb_in'], data_9['symb_in'], data_10['symb_in'], \n",
    "                          data_11['symb_in'], data_12['symb_in'], data_13['symb_in'], data_14['symb_in'], data_15['symb_in'],\n",
    "                          data_16['symb_in']])\n",
    "\n",
    "symb_out_1 = np.concatenate([data_1['symb_out'], data_2['symb_out'], data_3['symb_out'], data_4['symb_out'], data_5['symb_out'], \n",
    "                           data_6['symb_out'], data_7['symb_out'], data_8['symb_out'], data_9['symb_out'], data_10['symb_out'],\n",
    "                           data_11['symb_out'], data_12['symb_out'], data_13['symb_out'], data_14['symb_out'], \n",
    "                           data_15['symb_out'], data_16['symb_out']])"
   ]
  },
  {
   "cell_type": "code",
   "execution_count": 69,
   "metadata": {},
   "outputs": [],
   "source": [
    "symb_in_16 = np.concatenate([data_17['symb_in'], data_18['symb_in'], data_19['symb_in'], data_20['symb_in'], \n",
    "                          data_21['symb_in'], data_22['symb_in'], data_23['symb_in'], data_24['symb_in'], data_25['symb_in'], \n",
    "                          data_26['symb_in'], data_27['symb_in'], data_28['symb_in'], data_29['symb_in'], data_30['symb_in'],\n",
    "                          data_31['symb_in'], data_32['symb_in']])\n",
    "\n",
    "symb_out_16 = np.concatenate([data_17['symb_out'], data_18['symb_out'], data_19['symb_out'], data_20['symb_out'],\n",
    "                              data_21['symb_out'], data_22['symb_out'], \n",
    "                           data_23['symb_out'], data_24['symb_out'], data_25['symb_out'], data_26['symb_out'], \n",
    "                           data_27['symb_out'], data_28['symb_out'], data_29['symb_out'], data_30['symb_out'], \n",
    "                           data_31['symb_out'], data_32['symb_out']])"
   ]
  },
  {
   "cell_type": "code",
   "execution_count": 105,
   "metadata": {},
   "outputs": [],
   "source": [
    "np.savez_compressed('80K_symb_1.npz', symb_in=symb_in_1, symb_out=symb_out_1 )\n",
    "np.savez_compressed('80K_symb_16.npz', symb_in=symb_in_16, symb_out=symb_out_16 )"
   ]
  }
 ],
 "metadata": {
  "kernelspec": {
   "display_name": "Python 3.6.8 64-bit",
   "language": "python",
   "name": "python36864bit5d1453442e8543df8126f0c5c89733bf"
  },
  "language_info": {
   "codemirror_mode": {
    "name": "ipython",
    "version": 3
   },
   "file_extension": ".py",
   "mimetype": "text/x-python",
   "name": "python",
   "nbconvert_exporter": "python",
   "pygments_lexer": "ipython3",
   "version": "3.6.8"
  }
 },
 "nbformat": 4,
 "nbformat_minor": 2
}
