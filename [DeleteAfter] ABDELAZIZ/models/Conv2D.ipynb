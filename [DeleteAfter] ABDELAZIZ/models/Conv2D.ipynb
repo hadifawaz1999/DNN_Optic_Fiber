{
 "cells": [
  {
   "cell_type": "code",
   "execution_count": 1,
   "metadata": {},
   "outputs": [
    {
     "name": "stderr",
     "output_type": "stream",
     "text": [
      "In C:\\Python36\\lib\\site-packages\\matplotlib\\mpl-data\\stylelib\\_classic_test.mplstyle: \n",
      "The text.latex.preview rcparam was deprecated in Matplotlib 3.3 and will be removed two minor releases later.\n",
      "In C:\\Python36\\lib\\site-packages\\matplotlib\\mpl-data\\stylelib\\_classic_test.mplstyle: \n",
      "The mathtext.fallback_to_cm rcparam was deprecated in Matplotlib 3.3 and will be removed two minor releases later.\n",
      "In C:\\Python36\\lib\\site-packages\\matplotlib\\mpl-data\\stylelib\\_classic_test.mplstyle: Support for setting the 'mathtext.fallback_to_cm' rcParam is deprecated since 3.3 and will be removed two minor releases later; use 'mathtext.fallback : 'cm' instead.\n",
      "In C:\\Python36\\lib\\site-packages\\matplotlib\\mpl-data\\stylelib\\_classic_test.mplstyle: \n",
      "The validate_bool_maybe_none function was deprecated in Matplotlib 3.3 and will be removed two minor releases later.\n",
      "In C:\\Python36\\lib\\site-packages\\matplotlib\\mpl-data\\stylelib\\_classic_test.mplstyle: \n",
      "The savefig.jpeg_quality rcparam was deprecated in Matplotlib 3.3 and will be removed two minor releases later.\n",
      "In C:\\Python36\\lib\\site-packages\\matplotlib\\mpl-data\\stylelib\\_classic_test.mplstyle: \n",
      "The keymap.all_axes rcparam was deprecated in Matplotlib 3.3 and will be removed two minor releases later.\n",
      "In C:\\Python36\\lib\\site-packages\\matplotlib\\mpl-data\\stylelib\\_classic_test.mplstyle: \n",
      "The animation.avconv_path rcparam was deprecated in Matplotlib 3.3 and will be removed two minor releases later.\n",
      "In C:\\Python36\\lib\\site-packages\\matplotlib\\mpl-data\\stylelib\\_classic_test.mplstyle: \n",
      "The animation.avconv_args rcparam was deprecated in Matplotlib 3.3 and will be removed two minor releases later.\n"
     ]
    }
   ],
   "source": [
    "from __future__ import print_function\n",
    "from sklearn import datasets\n",
    "import matplotlib.pyplot as plt\n",
    "import numpy as np\n",
    "import sys\n",
    "sys.path.append(\"C:/Users/admin/Desktop/ML-From-Scratch-master/ML-From-Scratch-master/\")\n",
    "\n",
    "# Import helper functions\n",
    "from mlfromscratch.deep_learning import NeuralNetwork\n",
    "from mlfromscratch.utils import train_test_split, to_categorical, normalize, Plot\n",
    "from mlfromscratch.utils import get_random_subsets, shuffle_data, accuracy_score\n",
    "from mlfromscratch.deep_learning.optimizers import StochasticGradientDescent, Adam, RMSprop, Adagrad, Adadelta\n",
    "from mlfromscratch.deep_learning.loss_functions import CrossEntropy, SquareLoss\n",
    "from mlfromscratch.utils.misc import bar_widgets\n",
    "from mlfromscratch.deep_learning.layers import Dense, Dropout, Activation, BatchNormalization, Conv2D, Flatten\n",
    "\n",
    "\n",
    "import pandas as pd\n",
    "from numpy import save\n",
    "import matplotlib.pyplot as plt\n",
    "from tqdm import tqdm\n",
    "\n",
    "from sklearn.model_selection import train_test_split\n",
    "from sklearn import preprocessing\n",
    "from sklearn.utils import shuffle\n",
    "from sklearn.preprocessing import MinMaxScaler\n",
    "\n",
    "import time"
   ]
  },
  {
   "cell_type": "code",
   "execution_count": 2,
   "metadata": {},
   "outputs": [],
   "source": [
    "#----------------------------------------------------------------------------#\n",
    "\n",
    "def fromComplexToReal(vect_im):\n",
    "  \n",
    "   # vect_real = []\n",
    "    N = vect_im.shape[0]\n",
    "    M = vect_im.shape[1]*2\n",
    "    vect_real = np.zeros((N,M))\n",
    "\n",
    "    print(\"\\n [INFO] {fromComplexToReal} runing...\")\n",
    "    print(\"\\n [INFO] vect_real.shape : \" , vect_real.shape)\n",
    "\n",
    "    for i in tqdm(range(len(vect_im))) :\n",
    "        tmp = []\n",
    "        for j in range(len(vect_im[i])) :\n",
    "            z = vect_im[i][j]\n",
    "            tmp.append(z.real)\n",
    "            tmp.append(z.imag)\n",
    "        vect_real[i] = tmp\n",
    "        #vect_real.append(tmp)\n",
    "\n",
    "    #vect_real = np.asarray(vect_real)\n",
    "    print(\" [INFO] {fromComplexToReal} vect_real.shape : \",vect_real.shape)\n",
    "\n",
    "    return vect_real\n",
    "\n",
    "#----------------------------------------------------------------------------#\n",
    "\n",
    "def fromRealToComplex(vect_real):\n",
    "  \n",
    "    # init variables\n",
    "    #vect_im = []\n",
    "    N = vect_real.shape[0]\n",
    "    M = vect_real.shape[1]//2\n",
    "    \n",
    "    vect_im = np.zeros((N,M), dtype=np.complex64)  \n",
    "\n",
    "    print(\"\\n [INFO] {fromRealToComplex} runing...\")\n",
    "    # iterate over the vector\n",
    "    for i in tqdm(range(len(vect_real))) :\n",
    "        tmp = []\n",
    "        j = 0\n",
    "\n",
    "        # we can't use for loop with range() we have no control over the index\n",
    "        while j < len(vect_real[i]) :\n",
    "\n",
    "          # y = a+j*b\n",
    "          im = vect_real[i][j] + 1j*vect_real[i][j+1]\n",
    "          # we already processed two elements \n",
    "          j = j + 2\n",
    "          # append the new element to the output array\n",
    "          tmp.append(im)\n",
    "\n",
    "        # matrix i*j\n",
    "        #vect_im.append(tmp)\n",
    "        vect_im[i] = tmp\n",
    "    # to numpy\n",
    "    #vect_im = np.asarray(vect_im)\n",
    "    print(\"[INFO] {fromRealToComplex} vect_im.shape : \",vect_im.shape)\n",
    "\n",
    "    return vect_im\n",
    "\n",
    "#----------------------------------------------------------------------------#\n",
    "\n",
    "def fromRealToComplex2(vect_real):\n",
    "  \n",
    "    # init variables\n",
    "    vect_im = []\n",
    "\n",
    "    print(\"\\n [INFO] {fromRealToComplex} runing...\")\n",
    "    # iterate over the vector\n",
    "    for i in tqdm(range(len(vect_real))) :\n",
    "        tmp = []\n",
    "        j = 0\n",
    "\n",
    "        # we can't use for loop with range() we have no control over the index\n",
    "        while j < len(vect_real[i]) :\n",
    "\n",
    "          # y = a+j*b\n",
    "          im = vect_real[i][j] + 1j*vect_real[i][j+1]\n",
    "          # we already processed two elements \n",
    "          j = j + 2\n",
    "          # append the new element to the output array\n",
    "          tmp.append(im)\n",
    "\n",
    "        # matrix i*j\n",
    "        vect_im.append(tmp)\n",
    "    # to numpy\n",
    "    vect_im = np.asarray(vect_im)\n",
    "    print(\"[INFO] {fromRealToComplex} vect_im.shape : \",vect_im.shape)\n",
    "\n",
    "    return vect_im\n",
    "\n",
    "#----------------------------------------------------------------------------#\n",
    "\n",
    "def prepareDataFrame(X, y, scaling) :\n",
    "\n",
    "    X_real = fromComplexToReal(X)\n",
    "    y_real = fromComplexToReal(y)\n",
    "\n",
    "    data = np.column_stack((X_real,y_real))\n",
    "\n",
    "    df_ = pd.DataFrame(data)\n",
    "\n",
    "    if scaling :\n",
    "      scaler = MinMaxScaler()\n",
    "      df_ = scaler.fit_transform(df_)\n",
    "      \n",
    "    df_ = shuffle(df_)\n",
    "\n",
    "    print(\"{prepareDataFrame} df_.shape : \",df_.shape)\n",
    "\n",
    "    return df_\n",
    "\n",
    "#----------------------------------------------------------------------------#\n",
    "\n",
    "def prepareTrainAndTestData(df, withReshape, ts):\n",
    "\n",
    "  #df = df.set_index('Attribute',inplace=True)\n",
    "  \n",
    "    N_samples = df.shape[0]\n",
    "    N_features = df.shape[1]//2\n",
    "    N_cols = df.shape[1]\n",
    "\n",
    "    if type(df) != np.ndarray :\n",
    "        print(\"[INFO] - {prepareTrainAndTestData} converting from pandas to numpy...\")\n",
    "        df_np = df.to_numpy()\n",
    "        y = df_np[:N_samples,0:N_features]\n",
    "        X = df_np[:N_samples,N_features:N_cols]\n",
    "    else :\n",
    "        y = df[:N_samples,0:N_features]\n",
    "        X = df[:N_samples,N_features:N_cols]\n",
    "\n",
    "    N_features = len(X[0])\n",
    "\n",
    "    X_train, X_test, y_train, y_test = train_test_split(X, y, test_size=ts)\n",
    "\n",
    "    N_samples_train = len(X_train)\n",
    "    N_samples_test = len(X_test)\n",
    "\n",
    "    if withReshape :\n",
    "        X_train = X_train.reshape(N_samples_train, N_features, 1)\n",
    "        X_test = X_test.reshape(N_samples_test, N_features, 1)\n",
    "        y_train = y_train.reshape(N_samples_train, N_features, 1)\n",
    "        y_test = y_test.reshape(N_samples_test, N_features, 1)\n",
    "\n",
    "    print(X.shape)\n",
    "    print(y.shape)\n",
    "    print(X_train.shape)\n",
    "    print(y_train.shape)\n",
    "    print(X_test.shape)\n",
    "    print(y_test.shape)\n",
    "\n",
    "    return X_train, X_test, y_train, y_test\n",
    "  \n",
    "#----------------------------------------------------------------------------#\n",
    "\n",
    "def prepareDataFrame(X, y, scaling) :\n",
    "\n",
    "    X_real = fromComplexToReal(X)\n",
    "    y_real = fromComplexToReal(y)\n",
    "\n",
    "    data = np.column_stack((X_real,y_real))\n",
    "\n",
    "    df_ = pd.DataFrame(data)\n",
    "\n",
    "    if scaling :\n",
    "      scaler = MinMaxScaler()\n",
    "      df_ = scaler.fit_transform(df_)\n",
    "      \n",
    "    df_ = shuffle(df_)\n",
    "\n",
    "    print(\"{prepareDataFrame} df_.shape : \",df_.shape)\n",
    "\n",
    "    return df_\n",
    "\n",
    "#----------------------------------------------------------------------------#\n",
    "\n",
    "def prepareTrainAndTestData(df, withReshape, ts):\n",
    "\n",
    "  #df = df.set_index('Attribute',inplace=True)\n",
    "  \n",
    "    N_samples = df.shape[0]\n",
    "    N_features = df.shape[1]//2\n",
    "    N_cols = df.shape[1]\n",
    "\n",
    "    if type(df) != np.ndarray :\n",
    "        print(\"[INFO] - {prepareTrainAndTestData} converting from pandas to numpy...\")\n",
    "        df_np = df.to_numpy()\n",
    "        y = df_np[:N_samples,0:N_features]\n",
    "        X = df_np[:N_samples,N_features:N_cols]\n",
    "    else :\n",
    "        y = df[:N_samples,0:N_features]\n",
    "        X = df[:N_samples,N_features:N_cols]\n",
    "\n",
    "    N_features = len(X[0])\n",
    "\n",
    "    X_train, X_test, y_train, y_test = train_test_split(X, y, test_size=ts)\n",
    "\n",
    "    N_samples_train = len(X_train)\n",
    "    N_samples_test = len(X_test)\n",
    "\n",
    "    if withReshape :\n",
    "        X_train = X_train.reshape(N_samples_train, N_features, 1)\n",
    "        X_test = X_test.reshape(N_samples_test, N_features, 1)\n",
    "        y_train = y_train.reshape(N_samples_train, N_features, 1)\n",
    "        y_test = y_test.reshape(N_samples_test, N_features, 1)\n",
    "\n",
    "    print(X.shape)\n",
    "    print(y.shape)\n",
    "    print(X_train.shape)\n",
    "    print(y_train.shape)\n",
    "    print(X_test.shape)\n",
    "    print(y_test.shape)\n",
    "\n",
    "    return X_train, X_test, y_train, y_test\n",
    "  \n",
    "#----------------------------------------------------------------------------#"
   ]
  },
  {
   "cell_type": "code",
   "execution_count": 3,
   "metadata": {},
   "outputs": [
    {
     "name": "stderr",
     "output_type": "stream",
     "text": [
      "  0%|                                                                              | 43/30000 [00:00<01:11, 421.59it/s]"
     ]
    },
    {
     "name": "stdout",
     "output_type": "stream",
     "text": [
      "\n",
      " [INFO] {fromComplexToReal} runing...\n",
      "\n",
      " [INFO] vect_real.shape :  (30000, 2048)\n"
     ]
    },
    {
     "name": "stderr",
     "output_type": "stream",
     "text": [
      "100%|███████████████████████████████████████████████████████████████████████████| 30000/30000 [00:37<00:00, 799.83it/s]\n",
      "  0%|▏                                                                             | 90/30000 [00:00<00:33, 899.64it/s]"
     ]
    },
    {
     "name": "stdout",
     "output_type": "stream",
     "text": [
      " [INFO] {fromComplexToReal} vect_real.shape :  (30000, 2048)\n",
      "\n",
      " [INFO] {fromComplexToReal} runing...\n",
      "\n",
      " [INFO] vect_real.shape :  (30000, 2048)\n"
     ]
    },
    {
     "name": "stderr",
     "output_type": "stream",
     "text": [
      "100%|███████████████████████████████████████████████████████████████████████████| 30000/30000 [00:36<00:00, 813.73it/s]\n"
     ]
    },
    {
     "name": "stdout",
     "output_type": "stream",
     "text": [
      " [INFO] {fromComplexToReal} vect_real.shape :  (30000, 2048)\n",
      "{prepareDataFrame} df_.shape :  (30000, 4096)\n",
      "Toral time to prepare the dataframe is :  84.74990367889404  seconds.\n",
      "[INFO] - {prepareTrainAndTestData} converting from pandas to numpy...\n",
      "(30000, 2048)\n",
      "(30000, 2048)\n",
      "(18000, 2048, 1)\n",
      "(18000, 2048, 1)\n",
      "(12000, 2048, 1)\n",
      "(12000, 2048, 1)\n"
     ]
    }
   ],
   "source": [
    "t1 = time.time()\n",
    "d2= np.load('../data/data_1_30K_P6e-2.npz')\n",
    "#d2= np.load('../data/data_1_90K_P6e-2_P5e-2_P2.6e-2.npz')\n",
    "X = d2['X']\n",
    "y = d2['y']\n",
    "\n",
    "# if scaling=True, we are using min-max scaler\n",
    "df = prepareDataFrame(X, y, scaling=False)\n",
    "#df.to_csv(\"../data/data_90K.csv.gz\", index=False, compression=\"gzip\")\n",
    "t2 = time.time()\n",
    "print(\"Toral time to prepare the dataframe is : \", t2-t1, \" seconds.\")\n",
    "\n",
    "X = df.iloc[:, 2048:4096]\n",
    "y = df.iloc[:, 0:2048]\n",
    "\n",
    "n_samples, n_features = X.shape\n",
    "n_hidden = 512"
   ]
  },
  {
   "cell_type": "code",
   "execution_count": 15,
   "metadata": {},
   "outputs": [
    {
     "name": "stdout",
     "output_type": "stream",
     "text": [
      "[INFO] - {prepareTrainAndTestData} converting from pandas to numpy...\n",
      "(30000, 2048)\n",
      "(30000, 2048)\n",
      "(18000, 2048, 1)\n",
      "(18000, 2048, 1)\n",
      "(12000, 2048, 1)\n",
      "(12000, 2048, 1)\n"
     ]
    }
   ],
   "source": [
    "withReshape = True\n",
    "ts = 0.4\n",
    "X_train, X_test, y_train, y_test = prepareTrainAndTestData(df, withReshape, ts)"
   ]
  },
  {
   "cell_type": "code",
   "execution_count": 18,
   "metadata": {},
   "outputs": [],
   "source": [
    "x_tr = X_train[0:1000,:,:]\n",
    "x_te = X_test[1100:1500,:,:]\n",
    "y_tr = y_train[0:1000,:,:]\n",
    "y_te = y_test[1100:1500,:,:]"
   ]
  },
  {
   "cell_type": "code",
   "execution_count": 19,
   "metadata": {},
   "outputs": [
    {
     "data": {
      "text/plain": [
       "(400, 2048, 1)"
      ]
     },
     "execution_count": 19,
     "metadata": {},
     "output_type": "execute_result"
    }
   ],
   "source": [
    "y_te.shape"
   ]
  },
  {
   "cell_type": "code",
   "execution_count": 20,
   "metadata": {},
   "outputs": [],
   "source": [
    "# Reshape X to (n_samples, channels, height, width)\n",
    "X_train = x_tr.reshape((x_tr.shape[0],2,32,32))\n",
    "X_test = x_te.reshape((x_te.shape[0],2,32,32))\n",
    "y_train = np.squeeze(y_tr)\n",
    "y_test = np.squeeze(y_te)"
   ]
  },
  {
   "cell_type": "code",
   "execution_count": 21,
   "metadata": {},
   "outputs": [
    {
     "data": {
      "text/plain": [
       "(1000, 2, 32, 32)"
      ]
     },
     "execution_count": 21,
     "metadata": {},
     "output_type": "execute_result"
    }
   ],
   "source": [
    "X_train.shape"
   ]
  },
  {
   "cell_type": "code",
   "execution_count": 22,
   "metadata": {},
   "outputs": [],
   "source": [
    "index_plot = 689"
   ]
  },
  {
   "cell_type": "code",
   "execution_count": 23,
   "metadata": {},
   "outputs": [
    {
     "data": {
      "text/plain": [
       "<matplotlib.image.AxesImage at 0x1e579d9ac18>"
      ]
     },
     "execution_count": 23,
     "metadata": {},
     "output_type": "execute_result"
    },
    {
     "data": {
      "image/png": "[encoded data removed]",
      "text/plain": [
       "<Figure size 432x288 with 1 Axes>"
      ]
     },
     "metadata": {
      "needs_background": "light"
     },
     "output_type": "display_data"
    }
   ],
   "source": [
    "plt.imshow(X_train[index_plot][0])"
   ]
  },
  {
   "cell_type": "code",
   "execution_count": 24,
   "metadata": {},
   "outputs": [
    {
     "data": {
      "text/plain": [
       "<matplotlib.image.AxesImage at 0x1e579dfdd30>"
      ]
     },
     "execution_count": 24,
     "metadata": {},
     "output_type": "execute_result"
    },
    {
     "data": {
      "image/png": "[encoded data removed]",
      "text/plain": [
       "<Figure size 432x288 with 1 Axes>"
      ]
     },
     "metadata": {
      "needs_background": "light"
     },
     "output_type": "display_data"
    }
   ],
   "source": [
    "plt.imshow(X_train[index_plot][1])"
   ]
  },
  {
   "cell_type": "code",
   "execution_count": 25,
   "metadata": {},
   "outputs": [],
   "source": [
    "optimizer = Adam()\n",
    "opti = 'Adam'\n",
    "n_features = 2048\n",
    "n_output = 2048\n",
    "clf = NeuralNetwork(optimizer=optimizer,\n",
    "                        loss=SquareLoss,\n",
    "                        validation_data=(X_test, y_test))"
   ]
  },
  {
   "cell_type": "code",
   "execution_count": 26,
   "metadata": {},
   "outputs": [
    {
     "name": "stdout",
     "output_type": "stream",
     "text": [
      "\n",
      "+--------+\n",
      "| Conv2D |\n",
      "+--------+\n",
      "Input Shape: (2, 32, 32)\n",
      "+--------------------+------------+--------------+\n",
      "| Layer Type         | Parameters | Output Shape |\n",
      "+--------------------+------------+--------------+\n",
      "| Conv2D             | 608        | (32, 32, 32) |\n",
      "| Activation (SELU)  | 0          | (32, 32, 32) |\n",
      "| Dropout            | 0          | (32, 32, 32) |\n",
      "| BatchNormalization | 65536      | (32, 32, 32) |\n",
      "| Conv2D             | 9248       | (32, 32, 32) |\n",
      "| Activation (SELU)  | 0          | (32, 32, 32) |\n",
      "| Dropout            | 0          | (32, 32, 32) |\n",
      "| BatchNormalization | 65536      | (32, 32, 32) |\n",
      "| Flatten            | 0          | (32768,)     |\n",
      "| Dense              | 524304     | (16,)        |\n",
      "| Activation (SELU)  | 0          | (16,)        |\n",
      "| Dropout            | 0          | (16,)        |\n",
      "| BatchNormalization | 32         | (16,)        |\n",
      "| Dense              | 34816      | (2048,)      |\n",
      "| Activation (SELU)  | 0          | (2048,)      |\n",
      "+--------------------+------------+--------------+\n",
      "Total Parameters: 700080\n",
      "\n"
     ]
    }
   ],
   "source": [
    "clf.add(Conv2D(n_filters=32, filter_shape=(3,3), stride=1, input_shape=(2,32,32), padding='same'))\n",
    "clf.add(Activation('selu'))\n",
    "clf.add(Dropout(0.25))\n",
    "clf.add(BatchNormalization())\n",
    "clf.add(Conv2D(n_filters=32, filter_shape=(3,3), stride=1, padding='same'))\n",
    "clf.add(Activation('selu'))\n",
    "clf.add(Dropout(0.25))\n",
    "clf.add(BatchNormalization())\n",
    "clf.add(Flatten())\n",
    "clf.add(Dense(16))\n",
    "clf.add(Activation('selu'))\n",
    "clf.add(Dropout(0.4))\n",
    "clf.add(BatchNormalization())\n",
    "clf.add(Dense(n_output))\n",
    "clf.add(Activation('selu'))\n",
    "print ()\n",
    "clf.summary(name=\"Conv2D\")"
   ]
  },
  {
   "cell_type": "code",
   "execution_count": 27,
   "metadata": {},
   "outputs": [],
   "source": [
    "num_epochs = 10\n",
    "batch_size = 32"
   ]
  },
  {
   "cell_type": "code",
   "execution_count": 28,
   "metadata": {},
   "outputs": [
    {
     "name": "stderr",
     "output_type": "stream",
     "text": [
      "Training:   0% [                                               ] ETA:  --:--:--\r"
     ]
    },
    {
     "name": "stdout",
     "output_type": "stream",
     "text": [
      "[INFO] Batch size :  32\n",
      "[INFO] Training epochs number :  10\n"
     ]
    },
    {
     "name": "stderr",
     "output_type": "stream",
     "text": [
      "Training:  10% [----                                            ] ETA:  0:08:01\r"
     ]
    },
    {
     "name": "stdout",
     "output_type": "stream",
     "text": [
      "[INFO] Training loss on epoch  1  :  0.46162\n",
      "[INFO] Validation loss on epoch  1  :  0.62825\n",
      "-------------------------------------------------------------------------------\n"
     ]
    },
    {
     "name": "stderr",
     "output_type": "stream",
     "text": [
      "Training:  20% [---------                                       ] ETA:  0:06:47\r"
     ]
    },
    {
     "name": "stdout",
     "output_type": "stream",
     "text": [
      "[INFO] Training loss on epoch  2  :  0.38110\n",
      "[INFO] Validation loss on epoch  2  :  0.36889\n",
      "-------------------------------------------------------------------------------\n"
     ]
    },
    {
     "name": "stderr",
     "output_type": "stream",
     "text": [
      "Training:  30% [--------------                                  ] ETA:  0:05:47\r"
     ]
    },
    {
     "name": "stdout",
     "output_type": "stream",
     "text": [
      "[INFO] Training loss on epoch  3  :  0.35000\n",
      "[INFO] Validation loss on epoch  3  :  0.32711\n",
      "-------------------------------------------------------------------------------\n"
     ]
    },
    {
     "name": "stderr",
     "output_type": "stream",
     "text": [
      "Training:  40% [-------------------                             ] ETA:  0:04:53\r"
     ]
    },
    {
     "name": "stdout",
     "output_type": "stream",
     "text": [
      "[INFO] Training loss on epoch  4  :  0.33816\n",
      "[INFO] Validation loss on epoch  4  :  0.31680\n",
      "-------------------------------------------------------------------------------\n"
     ]
    },
    {
     "name": "stderr",
     "output_type": "stream",
     "text": [
      "Training:  50% [------------------------                        ] ETA:  0:04:00\r"
     ]
    },
    {
     "name": "stdout",
     "output_type": "stream",
     "text": [
      "[INFO] Training loss on epoch  5  :  0.33085\n",
      "[INFO] Validation loss on epoch  5  :  0.31323\n",
      "-------------------------------------------------------------------------------\n"
     ]
    },
    {
     "name": "stderr",
     "output_type": "stream",
     "text": [
      "Training:  60% [----------------------------                    ] ETA:  0:03:15\r"
     ]
    },
    {
     "name": "stdout",
     "output_type": "stream",
     "text": [
      "[INFO] Training loss on epoch  6  :  0.32529\n",
      "[INFO] Validation loss on epoch  6  :  0.31138\n",
      "-------------------------------------------------------------------------------\n"
     ]
    },
    {
     "name": "stderr",
     "output_type": "stream",
     "text": [
      "Training:  70% [---------------------------------               ] ETA:  0:02:28\r"
     ]
    },
    {
     "name": "stdout",
     "output_type": "stream",
     "text": [
      "[INFO] Training loss on epoch  7  :  0.32103\n",
      "[INFO] Validation loss on epoch  7  :  0.31039\n",
      "-------------------------------------------------------------------------------\n"
     ]
    },
    {
     "name": "stderr",
     "output_type": "stream",
     "text": [
      "Training:  80% [--------------------------------------          ] ETA:  0:01:37\r"
     ]
    },
    {
     "name": "stdout",
     "output_type": "stream",
     "text": [
      "[INFO] Training loss on epoch  8  :  0.31825\n",
      "[INFO] Validation loss on epoch  8  :  0.30951\n",
      "-------------------------------------------------------------------------------\n"
     ]
    },
    {
     "name": "stderr",
     "output_type": "stream",
     "text": [
      "Training:  90% [-------------------------------------------     ] ETA:  0:00:48\r"
     ]
    },
    {
     "name": "stdout",
     "output_type": "stream",
     "text": [
      "[INFO] Training loss on epoch  9  :  0.31598\n",
      "[INFO] Validation loss on epoch  9  :  0.30862\n",
      "-------------------------------------------------------------------------------\n"
     ]
    },
    {
     "name": "stderr",
     "output_type": "stream",
     "text": [
      "Training: 100% [------------------------------------------------] Time: 0:07:56\r"
     ]
    },
    {
     "name": "stdout",
     "output_type": "stream",
     "text": [
      "[INFO] Training loss on epoch  10  :  0.31362\n",
      "[INFO] Validation loss on epoch  10  :  0.30755\n",
      "-------------------------------------------------------------------------------\n"
     ]
    },
    {
     "name": "stderr",
     "output_type": "stream",
     "text": [
      "\n"
     ]
    }
   ],
   "source": [
    "print(\"[INFO] Batch size : \", batch_size)\n",
    "print(\"[INFO] Training epochs number : \", num_epochs)\n",
    "train_err, val_err = clf.fit(X_train, y_train, num_epochs, batch_size=batch_size)"
   ]
  },
  {
   "cell_type": "code",
   "execution_count": null,
   "metadata": {},
   "outputs": [],
   "source": [
    "num_epochs = 60\n",
    "batch_size = 32"
   ]
  },
  {
   "cell_type": "code",
   "execution_count": null,
   "metadata": {},
   "outputs": [],
   "source": [
    "print(\"[INFO] Batch size : \", batch_size)\n",
    "print(\"[INFO] Training epochs number : \", num_epochs)\n",
    "train_err, val_err = clf.fit(X_train, y_train, num_epochs, batch_size=batch_size)"
   ]
  },
  {
   "cell_type": "code",
   "execution_count": 31,
   "metadata": {},
   "outputs": [
    {
     "data": {
      "image/png": "[encoded data removed]",
      "text/plain": [
       "<Figure size 432x288 with 1 Axes>"
      ]
     },
     "metadata": {
      "needs_background": "light"
     },
     "output_type": "display_data"
    }
   ],
   "source": [
    "# Training and validation error plot\n",
    "n = len(train_err)\n",
    "training, = plt.plot(range(n), train_err, label=\"Training Error\")\n",
    "validation, = plt.plot(range(n), val_err, label=\"Validation Error\")\n",
    "plt.legend(handles=[training, validation])\n",
    "plt.title(\"Error Plot using \"+str(opti))\n",
    "plt.ylabel('Error')\n",
    "plt.xlabel('Iterations')\n",
    "plt.show()"
   ]
  },
  {
   "cell_type": "code",
   "execution_count": 32,
   "metadata": {},
   "outputs": [
    {
     "name": "stdout",
     "output_type": "stream",
     "text": [
      "Test loss: 0\n"
     ]
    }
   ],
   "source": [
    "_, loss = clf.test_on_batch(X_test, y_test)\n",
    "print (\"Test loss:\", loss)"
   ]
  },
  {
   "cell_type": "markdown",
   "metadata": {},
   "source": [
    "### Testing the Conv2D"
   ]
  },
  {
   "cell_type": "code",
   "execution_count": 34,
   "metadata": {},
   "outputs": [],
   "source": [
    "x_tester = X_test.reshape(X_test.shape[0], -1, 2,32,32)\n",
    "x_test_original = X_test.reshape(X_test.shape[0], 2048,1)"
   ]
  },
  {
   "cell_type": "code",
   "execution_count": 35,
   "metadata": {},
   "outputs": [],
   "source": [
    "index_pred = 54"
   ]
  },
  {
   "cell_type": "code",
   "execution_count": 36,
   "metadata": {},
   "outputs": [
    {
     "name": "stdout",
     "output_type": "stream",
     "text": [
      "[[0.04409289 0.00688274 0.04464493 ... 0.06249855 0.03349153 0.05991256]]\n"
     ]
    },
    {
     "data": {
      "image/png": "[encoded data removed]",
      "text/plain": [
       "<Figure size 432x288 with 1 Axes>"
      ]
     },
     "metadata": {
      "needs_background": "light"
     },
     "output_type": "display_data"
    }
   ],
   "source": [
    "y_pred = clf.predict(x_tester[index_pred])\n",
    "print(y_pred)\n",
    "plt.title(\"Predicted Signal\")\n",
    "plt.plot(np.squeeze(np.abs(y_pred)))\n",
    "plt.show()"
   ]
  },
  {
   "cell_type": "code",
   "execution_count": 37,
   "metadata": {},
   "outputs": [
    {
     "data": {
      "image/png": "[encoded data removed]",
      "text/plain": [
       "<Figure size 432x288 with 1 Axes>"
      ]
     },
     "metadata": {
      "needs_background": "light"
     },
     "output_type": "display_data"
    }
   ],
   "source": [
    "plt.title(\"Predicted Signal vs Original\")\n",
    "plt.plot(np.squeeze(np.abs(y_pred)), label=\"prediction\")\n",
    "plt.plot(np.squeeze(np.abs(y_test[index_pred])), label=\"original\")\n",
    "plt.legend()\n",
    "plt.show()"
   ]
  },
  {
   "cell_type": "code",
   "execution_count": 38,
   "metadata": {},
   "outputs": [
    {
     "name": "stdout",
     "output_type": "stream",
     "text": [
      "max val : 0.9467448413274234\n",
      "shape  : (1, 2048)\n"
     ]
    }
   ],
   "source": [
    "print (\"max val :\", np.max(y_pred))\n",
    "print (\"shape  :\", y_pred.shape)"
   ]
  },
  {
   "cell_type": "markdown",
   "metadata": {},
   "source": [
    "## More deep Conv2D"
   ]
  },
  {
   "cell_type": "code",
   "execution_count": 50,
   "metadata": {},
   "outputs": [],
   "source": [
    "optimizer = Adam()\n",
    "opti = 'Adam'\n",
    "n_features = 2048\n",
    "n_output = 2048\n",
    "model_deep = NeuralNetwork(optimizer=optimizer,\n",
    "                        loss=SquareLoss,\n",
    "                        validation_data=(X_test, y_test))"
   ]
  },
  {
   "cell_type": "code",
   "execution_count": 51,
   "metadata": {},
   "outputs": [
    {
     "name": "stdout",
     "output_type": "stream",
     "text": [
      "\n",
      "+-------------+\n",
      "| Conv2D-deep |\n",
      "+-------------+\n",
      "Input Shape: (2, 32, 32)\n",
      "+--------------------+------------+---------------+\n",
      "| Layer Type         | Parameters | Output Shape  |\n",
      "+--------------------+------------+---------------+\n",
      "| Conv2D             | 2432       | (128, 32, 32) |\n",
      "| Activation (SELU)  | 0          | (128, 32, 32) |\n",
      "| Dropout            | 0          | (128, 32, 32) |\n",
      "| BatchNormalization | 262144     | (128, 32, 32) |\n",
      "| Conv2D             | 73792      | (64, 32, 32)  |\n",
      "| Activation (SELU)  | 0          | (64, 32, 32)  |\n",
      "| Dropout            | 0          | (64, 32, 32)  |\n",
      "| BatchNormalization | 131072     | (64, 32, 32)  |\n",
      "| Flatten            | 0          | (65536,)      |\n",
      "| Dense              | 2097184    | (32,)         |\n",
      "| Activation (SELU)  | 0          | (32,)         |\n",
      "| Dropout            | 0          | (32,)         |\n",
      "| BatchNormalization | 64         | (32,)         |\n",
      "| Dense              | 528        | (16,)         |\n",
      "| Activation (SELU)  | 0          | (16,)         |\n",
      "| Dropout            | 0          | (16,)         |\n",
      "| BatchNormalization | 32         | (16,)         |\n",
      "| Dense              | 544        | (32,)         |\n",
      "| Activation (SELU)  | 0          | (32,)         |\n",
      "| Dropout            | 0          | (32,)         |\n",
      "| BatchNormalization | 64         | (32,)         |\n",
      "| Dense              | 67584      | (2048,)       |\n",
      "| Activation (SELU)  | 0          | (2048,)       |\n",
      "+--------------------+------------+---------------+\n",
      "Total Parameters: 2635440\n",
      "\n"
     ]
    }
   ],
   "source": [
    "model_deep.add(Conv2D(n_filters=128, filter_shape=(3,3), stride=1, input_shape=(2,32,32), padding='same'))\n",
    "model_deep.add(Activation('selu'))\n",
    "model_deep.add(Dropout(0.25))\n",
    "model_deep.add(BatchNormalization())\n",
    "\n",
    "model_deep.add(Conv2D(n_filters=64, filter_shape=(3,3), stride=1, padding='same'))\n",
    "model_deep.add(Activation('selu'))\n",
    "model_deep.add(Dropout(0.25))\n",
    "model_deep.add(BatchNormalization())\n",
    "\n",
    "model_deep.add(Flatten())\n",
    "\n",
    "model_deep.add(Dense(32))\n",
    "model_deep.add(Activation('selu'))\n",
    "model_deep.add(Dropout(0.4))\n",
    "model_deep.add(BatchNormalization())\n",
    "\n",
    "model_deep.add(Dense(16))\n",
    "model_deep.add(Activation('selu'))\n",
    "model_deep.add(Dropout(0.4))\n",
    "model_deep.add(BatchNormalization())\n",
    "\n",
    "model_deep.add(Dense(32))\n",
    "model_deep.add(Activation('selu'))\n",
    "model_deep.add(Dropout(0.4))\n",
    "model_deep.add(BatchNormalization())\n",
    "\n",
    "model_deep.add(Dense(n_output))\n",
    "model_deep.add(Activation('selu'))\n",
    "print ()\n",
    "model_deep.summary(name=\"Conv2D-deep\")"
   ]
  },
  {
   "cell_type": "markdown",
   "metadata": {},
   "source": [
    "### Training the model"
   ]
  },
  {
   "cell_type": "code",
   "execution_count": 52,
   "metadata": {},
   "outputs": [],
   "source": [
    "num_epochs = 5\n",
    "batch_size = 4"
   ]
  },
  {
   "cell_type": "code",
   "execution_count": null,
   "metadata": {},
   "outputs": [
    {
     "name": "stderr",
     "output_type": "stream",
     "text": [
      "Training:   0% [                                               ] ETA:  --:--:--\r"
     ]
    },
    {
     "name": "stdout",
     "output_type": "stream",
     "text": [
      "[INFO] Batch size :  4\n",
      "[INFO] Training epochs number :  5\n"
     ]
    }
   ],
   "source": [
    "print(\"[INFO] Batch size : \", batch_size)\n",
    "print(\"[INFO] Training epochs number : \", num_epochs)\n",
    "train_err, val_err = model_deep.fit(X_train, y_train, num_epochs, batch_size=batch_size)"
   ]
  }
 ],
 "metadata": {
  "kernelspec": {
   "display_name": "Python 3.6.8 64-bit",
   "language": "python",
   "name": "python36864bit5d1453442e8543df8126f0c5c89733bf"
  },
  "language_info": {
   "codemirror_mode": {
    "name": "ipython",
    "version": 3
   },
   "file_extension": ".py",
   "mimetype": "text/x-python",
   "name": "python",
   "nbconvert_exporter": "python",
   "pygments_lexer": "ipython3",
   "version": "3.6.8"
  }
 },
 "nbformat": 4,
 "nbformat_minor": 2
}
